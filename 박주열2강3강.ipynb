{
  "nbformat": 4,
  "nbformat_minor": 0,
  "metadata": {
    "colab": {
      "name": "박주열2강3강.ipynb",
      "provenance": [],
      "authorship_tag": "ABX9TyNkjDOuSSbo9CgZLCqALYyk",
      "include_colab_link": true
    },
    "kernelspec": {
      "name": "python3",
      "display_name": "Python 3"
    },
    "language_info": {
      "name": "python"
    }
  },
  "cells": [
    {
      "cell_type": "markdown",
      "metadata": {
        "id": "view-in-github",
        "colab_type": "text"
      },
      "source": [
        "<a href=\"https://colab.research.google.com/github/juyeol2001251/pjy_2001251/blob/main/%EB%B0%95%EC%A3%BC%EC%97%B42%EA%B0%953%EA%B0%95.ipynb\" target=\"_parent\"><img src=\"https://colab.research.google.com/assets/colab-badge.svg\" alt=\"Open In Colab\"/></a>"
      ]
    },
    {
      "cell_type": "code",
      "source": [
        "import numpy as np"
      ],
      "metadata": {
        "id": "YsSLYofhTuo9"
      },
      "execution_count": 5,
      "outputs": []
    },
    {
      "cell_type": "code",
      "execution_count": 6,
      "metadata": {
        "colab": {
          "base_uri": "https://localhost:8080/",
          "height": 35
        },
        "id": "dQAUj_MOTVuL",
        "outputId": "f924d201-bb3f-4f43-c2cc-992d42c7c113"
      },
      "outputs": [
        {
          "output_type": "execute_result",
          "data": {
            "text/plain": [
              "'1.21.5'"
            ],
            "application/vnd.google.colaboratory.intrinsic+json": {
              "type": "string"
            }
          },
          "metadata": {},
          "execution_count": 6
        }
      ],
      "source": [
        "np.__version__"
      ]
    },
    {
      "cell_type": "code",
      "source": [
        "a = np.array((1,2,3), dtype = float)\n",
        "print(a)"
      ],
      "metadata": {
        "colab": {
          "base_uri": "https://localhost:8080/"
        },
        "id": "9AShg9rGTapw",
        "outputId": "6c575658-dbb8-4004-abf3-ff22ef363dab"
      },
      "execution_count": 7,
      "outputs": [
        {
          "output_type": "stream",
          "name": "stdout",
          "text": [
            "[1. 2. 3.]\n"
          ]
        }
      ]
    },
    {
      "cell_type": "code",
      "source": [
        "a = np.array([(1,2,3), (4,5,6)], dtype = float)\n",
        "print(a)"
      ],
      "metadata": {
        "id": "kKcaPZdGW5cp",
        "colab": {
          "base_uri": "https://localhost:8080/"
        },
        "outputId": "bac2bbd8-1960-4649-afd9-5da434226f10"
      },
      "execution_count": 8,
      "outputs": [
        {
          "output_type": "stream",
          "name": "stdout",
          "text": [
            "[[1. 2. 3.]\n",
            " [4. 5. 6.]]\n"
          ]
        }
      ]
    },
    {
      "cell_type": "code",
      "source": [
        "a = np.array([[[1,2,3], [4,5,6]], [[3,2,1],[4,5,6]]], dtype = float)\n",
        "print(a)"
      ],
      "metadata": {
        "colab": {
          "base_uri": "https://localhost:8080/"
        },
        "id": "_c5Vb_m3T3gV",
        "outputId": "bfc87e29-1504-4f42-d7ab-4dbfab19cd45"
      },
      "execution_count": 10,
      "outputs": [
        {
          "output_type": "stream",
          "name": "stdout",
          "text": [
            "[[[1. 2. 3.]\n",
            "  [4. 5. 6.]]\n",
            "\n",
            " [[3. 2. 1.]\n",
            "  [4. 5. 6.]]]\n"
          ]
        }
      ]
    },
    {
      "cell_type": "code",
      "source": [
        "#zeros(shape, dtype=float, order='C')"
      ],
      "metadata": {
        "id": "YpeAwBLGUDBN"
      },
      "execution_count": 16,
      "outputs": []
    },
    {
      "cell_type": "code",
      "source": [
        "a = np.zeros((3))\n",
        "print(a)"
      ],
      "metadata": {
        "colab": {
          "base_uri": "https://localhost:8080/"
        },
        "id": "ygYoK1PmUOdn",
        "outputId": "a15eaff6-41af-4abd-f313-ad03bc4e3c43"
      },
      "execution_count": 12,
      "outputs": [
        {
          "output_type": "stream",
          "name": "stdout",
          "text": [
            "[0. 0. 0.]\n"
          ]
        }
      ]
    },
    {
      "cell_type": "code",
      "source": [
        "a = np.zeros((3,4))\n",
        "print(a)"
      ],
      "metadata": {
        "colab": {
          "base_uri": "https://localhost:8080/"
        },
        "id": "EzVUI0XxURKX",
        "outputId": "89963445-7b7b-4400-c2c6-31c790d1ed5f"
      },
      "execution_count": 13,
      "outputs": [
        {
          "output_type": "stream",
          "name": "stdout",
          "text": [
            "[[0. 0. 0. 0.]\n",
            " [0. 0. 0. 0.]\n",
            " [0. 0. 0. 0.]]\n"
          ]
        }
      ]
    },
    {
      "cell_type": "code",
      "source": [
        "a = np.zeros((2,3,4))\n",
        "print(a)"
      ],
      "metadata": {
        "colab": {
          "base_uri": "https://localhost:8080/"
        },
        "id": "8O_m0-d1UUDn",
        "outputId": "6c362141-5b3c-4a04-9012-d5511c471b04"
      },
      "execution_count": 14,
      "outputs": [
        {
          "output_type": "stream",
          "name": "stdout",
          "text": [
            "[[[0. 0. 0. 0.]\n",
            "  [0. 0. 0. 0.]\n",
            "  [0. 0. 0. 0.]]\n",
            "\n",
            " [[0. 0. 0. 0.]\n",
            "  [0. 0. 0. 0.]\n",
            "  [0. 0. 0. 0.]]]\n"
          ]
        }
      ]
    },
    {
      "cell_type": "code",
      "source": [
        "#np.ones(shape, dtype = float, order='C)"
      ],
      "metadata": {
        "id": "Y2ZvswfWUXdv"
      },
      "execution_count": 15,
      "outputs": []
    },
    {
      "cell_type": "code",
      "source": [
        "a = np.ones((3))\n",
        "print(a)"
      ],
      "metadata": {
        "colab": {
          "base_uri": "https://localhost:8080/"
        },
        "id": "dSPBbDncUivn",
        "outputId": "71e396d0-d123-4442-f838-a696347fa572"
      },
      "execution_count": 17,
      "outputs": [
        {
          "output_type": "stream",
          "name": "stdout",
          "text": [
            "[1. 1. 1.]\n"
          ]
        }
      ]
    },
    {
      "cell_type": "code",
      "source": [
        "a = np.ones((2,3))\n",
        "print(a)"
      ],
      "metadata": {
        "colab": {
          "base_uri": "https://localhost:8080/"
        },
        "id": "NVbmML5oUoLv",
        "outputId": "d7924756-7c5b-482a-f3ca-a26433f7382c"
      },
      "execution_count": 19,
      "outputs": [
        {
          "output_type": "stream",
          "name": "stdout",
          "text": [
            "[[1. 1. 1.]\n",
            " [1. 1. 1.]]\n"
          ]
        }
      ]
    },
    {
      "cell_type": "code",
      "source": [
        "a = np.ones((2,3,3))\n",
        "print(a)"
      ],
      "metadata": {
        "colab": {
          "base_uri": "https://localhost:8080/"
        },
        "id": "bbjF35HuUpuH",
        "outputId": "6c6d4793-7950-4df5-9cc1-d9e492964203"
      },
      "execution_count": 20,
      "outputs": [
        {
          "output_type": "stream",
          "name": "stdout",
          "text": [
            "[[[1. 1. 1.]\n",
            "  [1. 1. 1.]\n",
            "  [1. 1. 1.]]\n",
            "\n",
            " [[1. 1. 1.]\n",
            "  [1. 1. 1.]\n",
            "  [1. 1. 1.]]]\n"
          ]
        }
      ]
    },
    {
      "cell_type": "code",
      "source": [
        "#np.full(shape, fill_value, dtype = None, order='C')"
      ],
      "metadata": {
        "id": "Rfwzq90PUwT2"
      },
      "execution_count": 21,
      "outputs": []
    },
    {
      "cell_type": "code",
      "source": [
        "a = np.full((3),4,dtype = np.int16)\n",
        "print(a)"
      ],
      "metadata": {
        "colab": {
          "base_uri": "https://localhost:8080/"
        },
        "id": "IYmjV6VvU48W",
        "outputId": "f00905fc-115b-474d-8fc4-747f5e4eaadb"
      },
      "execution_count": 23,
      "outputs": [
        {
          "output_type": "stream",
          "name": "stdout",
          "text": [
            "[4 4 4]\n"
          ]
        }
      ]
    },
    {
      "cell_type": "code",
      "source": [
        "a = np.full((3,4),-1,dtype = float)\n",
        "print(a)"
      ],
      "metadata": {
        "colab": {
          "base_uri": "https://localhost:8080/"
        },
        "id": "DNsW_aZQVAlH",
        "outputId": "b0e0a1a8-9e6a-4f07-830a-044948cffc2f"
      },
      "execution_count": 24,
      "outputs": [
        {
          "output_type": "stream",
          "name": "stdout",
          "text": [
            "[[-1. -1. -1. -1.]\n",
            " [-1. -1. -1. -1.]\n",
            " [-1. -1. -1. -1.]]\n"
          ]
        }
      ]
    },
    {
      "cell_type": "code",
      "source": [
        "a = np.full((3,4),-1)\n",
        "print(a)"
      ],
      "metadata": {
        "colab": {
          "base_uri": "https://localhost:8080/"
        },
        "id": "3JkjbCDvVIDf",
        "outputId": "80e63576-53b6-46d8-dc4b-56fb8de087cb"
      },
      "execution_count": 25,
      "outputs": [
        {
          "output_type": "stream",
          "name": "stdout",
          "text": [
            "[[-1 -1 -1 -1]\n",
            " [-1 -1 -1 -1]\n",
            " [-1 -1 -1 -1]]\n"
          ]
        }
      ]
    },
    {
      "cell_type": "code",
      "source": [
        "a = np.full((2,3,4),-1,dtype = float)\n",
        "print(a)"
      ],
      "metadata": {
        "colab": {
          "base_uri": "https://localhost:8080/"
        },
        "id": "lpdjRVGdVLn3",
        "outputId": "6c4ed9eb-ddd4-47f6-d46d-74b4eaff8715"
      },
      "execution_count": 27,
      "outputs": [
        {
          "output_type": "stream",
          "name": "stdout",
          "text": [
            "[[[-1. -1. -1. -1.]\n",
            "  [-1. -1. -1. -1.]\n",
            "  [-1. -1. -1. -1.]]\n",
            "\n",
            " [[-1. -1. -1. -1.]\n",
            "  [-1. -1. -1. -1.]\n",
            "  [-1. -1. -1. -1.]]]\n"
          ]
        }
      ]
    },
    {
      "cell_type": "code",
      "source": [
        "#np.eye(N, M = None, k = 0, dtype = <class'float'>)"
      ],
      "metadata": {
        "id": "S1pqUWW_VRfW"
      },
      "execution_count": 28,
      "outputs": []
    },
    {
      "cell_type": "code",
      "source": [
        "a = np.eye(3,dtype = float)\n",
        "print(a)"
      ],
      "metadata": {
        "colab": {
          "base_uri": "https://localhost:8080/"
        },
        "id": "Z2_iphELVjQO",
        "outputId": "9da516e8-50c1-44d9-d26f-f53b5c6bac87"
      },
      "execution_count": 29,
      "outputs": [
        {
          "output_type": "stream",
          "name": "stdout",
          "text": [
            "[[1. 0. 0.]\n",
            " [0. 1. 0.]\n",
            " [0. 0. 1.]]\n"
          ]
        }
      ]
    },
    {
      "cell_type": "code",
      "source": [
        "a = np.array([(1,2,3),(4,5,6)], dtype = float)\n",
        "b = np.ones_like(a)\n",
        "print(a)\n",
        "print(b)"
      ],
      "metadata": {
        "colab": {
          "base_uri": "https://localhost:8080/"
        },
        "id": "VWpLtI5jVm7-",
        "outputId": "0d7dbe27-26bb-4694-b707-fc07aaa94af8"
      },
      "execution_count": 32,
      "outputs": [
        {
          "output_type": "stream",
          "name": "stdout",
          "text": [
            "[[1. 2. 3.]\n",
            " [4. 5. 6.]]\n",
            "[[1. 1. 1.]\n",
            " [1. 1. 1.]]\n"
          ]
        }
      ]
    },
    {
      "cell_type": "code",
      "source": [
        "a = np.array([(1,2,3),(4,5,6)], dtype = float)\n",
        "b = np.zeros_like(a)\n",
        "print(a)\n",
        "print(b)"
      ],
      "metadata": {
        "colab": {
          "base_uri": "https://localhost:8080/"
        },
        "id": "qT8gdoFJVxRW",
        "outputId": "8709fb53-c88a-4942-86bc-d899b076aac0"
      },
      "execution_count": 33,
      "outputs": [
        {
          "output_type": "stream",
          "name": "stdout",
          "text": [
            "[[1. 2. 3.]\n",
            " [4. 5. 6.]]\n",
            "[[0. 0. 0.]\n",
            " [0. 0. 0.]]\n"
          ]
        }
      ]
    },
    {
      "cell_type": "code",
      "source": [
        "a = np.array([(1,2,3),(4,5,6)], dtype = float)\n",
        "b = np.full_like(a,-1,dtype = float)\n",
        "print(a)\n",
        "print(b)"
      ],
      "metadata": {
        "colab": {
          "base_uri": "https://localhost:8080/"
        },
        "id": "U8ChwqipV4tu",
        "outputId": "fd838ee6-2b99-4009-a960-06fb1accb1fb"
      },
      "execution_count": 34,
      "outputs": [
        {
          "output_type": "stream",
          "name": "stdout",
          "text": [
            "[[1. 2. 3.]\n",
            " [4. 5. 6.]]\n",
            "[[-1. -1. -1.]\n",
            " [-1. -1. -1.]]\n"
          ]
        }
      ]
    },
    {
      "cell_type": "code",
      "source": [
        "arr = np.array([(1,2,3),(4,5,6)], dtype = float)\n",
        "print(arr)"
      ],
      "metadata": {
        "colab": {
          "base_uri": "https://localhost:8080/"
        },
        "id": "ixcJjnw4WBfe",
        "outputId": "40ddec13-ee5c-4d5c-ee3f-31f070811ea5"
      },
      "execution_count": 36,
      "outputs": [
        {
          "output_type": "stream",
          "name": "stdout",
          "text": [
            "[[1. 2. 3.]\n",
            " [4. 5. 6.]]\n"
          ]
        }
      ]
    },
    {
      "cell_type": "code",
      "source": [
        "arr.shape"
      ],
      "metadata": {
        "colab": {
          "base_uri": "https://localhost:8080/"
        },
        "id": "oi3IOiKMWGAH",
        "outputId": "dd01ad37-ad62-41d3-c881-e7b0866a3daa"
      },
      "execution_count": 37,
      "outputs": [
        {
          "output_type": "execute_result",
          "data": {
            "text/plain": [
              "(2, 3)"
            ]
          },
          "metadata": {},
          "execution_count": 37
        }
      ]
    },
    {
      "cell_type": "code",
      "source": [
        "len(arr)"
      ],
      "metadata": {
        "colab": {
          "base_uri": "https://localhost:8080/"
        },
        "id": "c_tUxJrkWSV9",
        "outputId": "2d2bff4b-155f-4e2f-fd69-c9abb7edcd7d"
      },
      "execution_count": 38,
      "outputs": [
        {
          "output_type": "execute_result",
          "data": {
            "text/plain": [
              "2"
            ]
          },
          "metadata": {},
          "execution_count": 38
        }
      ]
    },
    {
      "cell_type": "code",
      "source": [
        "arr.ndim"
      ],
      "metadata": {
        "colab": {
          "base_uri": "https://localhost:8080/"
        },
        "id": "I-q_80obWTmF",
        "outputId": "330c9c95-08e6-49a1-a870-d090ea4cdfeb"
      },
      "execution_count": 39,
      "outputs": [
        {
          "output_type": "execute_result",
          "data": {
            "text/plain": [
              "2"
            ]
          },
          "metadata": {},
          "execution_count": 39
        }
      ]
    },
    {
      "cell_type": "code",
      "source": [
        "arr.dtype"
      ],
      "metadata": {
        "colab": {
          "base_uri": "https://localhost:8080/"
        },
        "id": "oxFWkF0cWU6t",
        "outputId": "30ade8e5-9785-40cf-f43f-5b5ec8ee2a27"
      },
      "execution_count": 40,
      "outputs": [
        {
          "output_type": "execute_result",
          "data": {
            "text/plain": [
              "dtype('float64')"
            ]
          },
          "metadata": {},
          "execution_count": 40
        }
      ]
    },
    {
      "cell_type": "code",
      "source": [
        "arr2 = np.array([(1,2,3),(4,5,6),(7,8,9)], dtype = float)\n",
        "print(arr2)"
      ],
      "metadata": {
        "colab": {
          "base_uri": "https://localhost:8080/"
        },
        "id": "owGPdoFvWbGm",
        "outputId": "7671fede-64c6-41cc-9f28-fd8c7cec4b8c"
      },
      "execution_count": 41,
      "outputs": [
        {
          "output_type": "stream",
          "name": "stdout",
          "text": [
            "[[1. 2. 3.]\n",
            " [4. 5. 6.]\n",
            " [7. 8. 9.]]\n"
          ]
        }
      ]
    },
    {
      "cell_type": "code",
      "source": [
        "arr2.shape"
      ],
      "metadata": {
        "colab": {
          "base_uri": "https://localhost:8080/"
        },
        "id": "0uaIoaCkWiYG",
        "outputId": "d9d9ce33-2b5f-4575-80f5-282ac8c6873b"
      },
      "execution_count": 42,
      "outputs": [
        {
          "output_type": "execute_result",
          "data": {
            "text/plain": [
              "(3, 3)"
            ]
          },
          "metadata": {},
          "execution_count": 42
        }
      ]
    },
    {
      "cell_type": "code",
      "source": [
        "len(arr2)"
      ],
      "metadata": {
        "colab": {
          "base_uri": "https://localhost:8080/"
        },
        "id": "uIE86v49WkZe",
        "outputId": "2b56664c-00e7-4f78-99c9-08ae15449dbc"
      },
      "execution_count": 43,
      "outputs": [
        {
          "output_type": "execute_result",
          "data": {
            "text/plain": [
              "3"
            ]
          },
          "metadata": {},
          "execution_count": 43
        }
      ]
    },
    {
      "cell_type": "code",
      "source": [
        "arr2.ndim"
      ],
      "metadata": {
        "colab": {
          "base_uri": "https://localhost:8080/"
        },
        "id": "saFUZqvEWlke",
        "outputId": "900dbda5-c7dd-4721-e883-e9f8df7db8f3"
      },
      "execution_count": 45,
      "outputs": [
        {
          "output_type": "execute_result",
          "data": {
            "text/plain": [
              "2"
            ]
          },
          "metadata": {},
          "execution_count": 45
        }
      ]
    },
    {
      "cell_type": "code",
      "source": [
        "arr2.dtype"
      ],
      "metadata": {
        "colab": {
          "base_uri": "https://localhost:8080/"
        },
        "id": "zGW5p9XfWm0-",
        "outputId": "8add67f7-e91d-4d02-a359-742d1324b9e0"
      },
      "execution_count": 46,
      "outputs": [
        {
          "output_type": "execute_result",
          "data": {
            "text/plain": [
              "dtype('float64')"
            ]
          },
          "metadata": {},
          "execution_count": 46
        }
      ]
    },
    {
      "cell_type": "code",
      "source": [
        "arr3 = np.array([[(1,2,3),(4,5,6)],[(3,2,1),(6,5,4)]], dtype = float)\n",
        "print(arr3)"
      ],
      "metadata": {
        "colab": {
          "base_uri": "https://localhost:8080/"
        },
        "id": "CRwuyTZqWsO9",
        "outputId": "6f2b7e12-db1c-4a15-f116-ca84489c5904"
      },
      "execution_count": 50,
      "outputs": [
        {
          "output_type": "stream",
          "name": "stdout",
          "text": [
            "[[[1. 2. 3.]\n",
            "  [4. 5. 6.]]\n",
            "\n",
            " [[3. 2. 1.]\n",
            "  [6. 5. 4.]]]\n"
          ]
        }
      ]
    },
    {
      "cell_type": "code",
      "source": [
        "arr3.ndim"
      ],
      "metadata": {
        "colab": {
          "base_uri": "https://localhost:8080/"
        },
        "id": "t--4A3kzWwIm",
        "outputId": "715d0057-545f-43e3-be4f-5ea3725196e1"
      },
      "execution_count": 51,
      "outputs": [
        {
          "output_type": "execute_result",
          "data": {
            "text/plain": [
              "3"
            ]
          },
          "metadata": {},
          "execution_count": 51
        }
      ]
    },
    {
      "cell_type": "code",
      "source": [
        "#numpy.linspace(start, stop, num=50, endpoint = True, retstep = False, dtype = None)"
      ],
      "metadata": {
        "id": "0z2hlcXmW_lF"
      },
      "execution_count": 52,
      "outputs": []
    },
    {
      "cell_type": "code",
      "source": [
        "a = np.linspace(0,1,5)\n",
        "print(a)"
      ],
      "metadata": {
        "colab": {
          "base_uri": "https://localhost:8080/"
        },
        "id": "M50hVxKEXRMt",
        "outputId": "542b9435-da10-48e3-c26b-59c5f77da869"
      },
      "execution_count": 54,
      "outputs": [
        {
          "output_type": "stream",
          "name": "stdout",
          "text": [
            "[0.   0.25 0.5  0.75 1.  ]\n"
          ]
        }
      ]
    },
    {
      "cell_type": "code",
      "source": [
        "#numpy.arrange(start, stop, step, dtype = None)"
      ],
      "metadata": {
        "id": "snwwIxw_XUUV"
      },
      "execution_count": 55,
      "outputs": []
    },
    {
      "cell_type": "code",
      "source": [
        "a = np.arange(0, 10, 2, np.float)\n",
        "print(a)"
      ],
      "metadata": {
        "colab": {
          "base_uri": "https://localhost:8080/"
        },
        "id": "0Z1WPwpIXeqJ",
        "outputId": "3f99fc10-8bb6-47eb-af8c-5a1341daf9a2"
      },
      "execution_count": 58,
      "outputs": [
        {
          "output_type": "stream",
          "name": "stdout",
          "text": [
            "[0. 2. 4. 6. 8.]\n"
          ]
        },
        {
          "output_type": "stream",
          "name": "stderr",
          "text": [
            "/usr/local/lib/python3.7/dist-packages/ipykernel_launcher.py:1: DeprecationWarning: `np.float` is a deprecated alias for the builtin `float`. To silence this warning, use `float` by itself. Doing this will not modify any behavior and is safe. If you specifically wanted the numpy scalar type, use `np.float64` here.\n",
            "Deprecated in NumPy 1.20; for more details and guidance: https://numpy.org/devdocs/release/1.20.0-notes.html#deprecations\n",
            "  \"\"\"Entry point for launching an IPython kernel.\n"
          ]
        }
      ]
    },
    {
      "cell_type": "code",
      "source": [
        "a = np.arange(0, 10, 2, float)\n",
        "print(a)"
      ],
      "metadata": {
        "colab": {
          "base_uri": "https://localhost:8080/"
        },
        "id": "9qxv_hvCXeDt",
        "outputId": "5e97f4b4-9d30-44e6-d625-9c0f7bc8110d"
      },
      "execution_count": 59,
      "outputs": [
        {
          "output_type": "stream",
          "name": "stdout",
          "text": [
            "[0. 2. 4. 6. 8.]\n"
          ]
        }
      ]
    },
    {
      "cell_type": "code",
      "source": [
        "#numpy.logspace(start, stop, num = 50, endpoint = True, base = 10.0, dtype = None)"
      ],
      "metadata": {
        "id": "hrojHdYwXpKV"
      },
      "execution_count": 60,
      "outputs": []
    },
    {
      "cell_type": "code",
      "source": [
        "a = np.logspace(0, 10, 4, np.float)\n",
        "print(a)"
      ],
      "metadata": {
        "colab": {
          "base_uri": "https://localhost:8080/"
        },
        "id": "09tb6fWwXz4l",
        "outputId": "e55340be-51f8-4c83-c6ae-e6a7293cad18"
      },
      "execution_count": 61,
      "outputs": [
        {
          "output_type": "stream",
          "name": "stdout",
          "text": [
            "[1.00000000e+00 2.15443469e+03 4.64158883e+06 1.00000000e+10]\n"
          ]
        },
        {
          "output_type": "stream",
          "name": "stderr",
          "text": [
            "/usr/local/lib/python3.7/dist-packages/ipykernel_launcher.py:1: DeprecationWarning: `np.float` is a deprecated alias for the builtin `float`. To silence this warning, use `float` by itself. Doing this will not modify any behavior and is safe. If you specifically wanted the numpy scalar type, use `np.float64` here.\n",
            "Deprecated in NumPy 1.20; for more details and guidance: https://numpy.org/devdocs/release/1.20.0-notes.html#deprecations\n",
            "  \"\"\"Entry point for launching an IPython kernel.\n"
          ]
        }
      ]
    },
    {
      "cell_type": "code",
      "source": [
        "a = np.logspace(0, 10, 4, float)\n",
        "print(a)"
      ],
      "metadata": {
        "colab": {
          "base_uri": "https://localhost:8080/"
        },
        "id": "UqfP6Kc7X4Xt",
        "outputId": "ab216e97-41e3-4f5f-8074-1ca65c19a537"
      },
      "execution_count": 62,
      "outputs": [
        {
          "output_type": "stream",
          "name": "stdout",
          "text": [
            "[1.00000000e+00 2.15443469e+03 4.64158883e+06 1.00000000e+10]\n"
          ]
        }
      ]
    },
    {
      "cell_type": "code",
      "source": [
        "a = np.logspace(0, 10, 3, float)\n",
        "print(a)"
      ],
      "metadata": {
        "colab": {
          "base_uri": "https://localhost:8080/"
        },
        "id": "L0FpNuPsX6Ad",
        "outputId": "a8fad824-165e-4eee-fcf2-78915b502aa4"
      },
      "execution_count": 67,
      "outputs": [
        {
          "output_type": "stream",
          "name": "stdout",
          "text": [
            "[1.e+00 1.e+05 1.e+10]\n"
          ]
        }
      ]
    },
    {
      "cell_type": "code",
      "source": [
        "a = np.arange(1, 10).reshape(3, 3)\n",
        "print(a)"
      ],
      "metadata": {
        "colab": {
          "base_uri": "https://localhost:8080/"
        },
        "id": "JT41w7HUX_AV",
        "outputId": "e5ae2ae4-4212-43ec-ea51-6dc68feab6fc"
      },
      "execution_count": 68,
      "outputs": [
        {
          "output_type": "stream",
          "name": "stdout",
          "text": [
            "[[1 2 3]\n",
            " [4 5 6]\n",
            " [7 8 9]]\n"
          ]
        }
      ]
    },
    {
      "cell_type": "code",
      "source": [
        "a = np.arange(1, 9).reshape(2, 4)\n",
        "print(a)"
      ],
      "metadata": {
        "colab": {
          "base_uri": "https://localhost:8080/"
        },
        "id": "XXpOuGvPYN4_",
        "outputId": "d3724f0d-0efe-42bb-b097-51abe893dc22"
      },
      "execution_count": 70,
      "outputs": [
        {
          "output_type": "stream",
          "name": "stdout",
          "text": [
            "[[1 2 3 4]\n",
            " [5 6 7 8]]\n"
          ]
        }
      ]
    },
    {
      "cell_type": "code",
      "source": [
        "a = np.arange(1, 11).reshape(2, 5)\n",
        "print(a)"
      ],
      "metadata": {
        "colab": {
          "base_uri": "https://localhost:8080/"
        },
        "id": "YGeOpQQ7YUNF",
        "outputId": "23bf55e5-67f6-49de-cd62-bebaa29576f4"
      },
      "execution_count": 72,
      "outputs": [
        {
          "output_type": "stream",
          "name": "stdout",
          "text": [
            "[[ 1  2  3  4  5]\n",
            " [ 6  7  8  9 10]]\n"
          ]
        }
      ]
    },
    {
      "cell_type": "code",
      "source": [
        "b = np.arange(9, 0, -1).reshape(3,3)\n",
        "print(b)"
      ],
      "metadata": {
        "colab": {
          "base_uri": "https://localhost:8080/"
        },
        "id": "YQTW3r77YaVl",
        "outputId": "f1fcafd3-fb8a-406d-bc35-abd38086f183"
      },
      "execution_count": 74,
      "outputs": [
        {
          "output_type": "stream",
          "name": "stdout",
          "text": [
            "[[9 8 7]\n",
            " [6 5 4]\n",
            " [3 2 1]]\n"
          ]
        }
      ]
    },
    {
      "cell_type": "code",
      "source": [
        "# add 는 a + b\n",
        "a = np.arange(1, 10).reshape(3, 3)\n",
        "b = np.arange(9, 0, -1).reshape(3,3)\n",
        "c = np.add(a,b)\n",
        "print(c)"
      ],
      "metadata": {
        "colab": {
          "base_uri": "https://localhost:8080/"
        },
        "id": "7WcesLJVYmdk",
        "outputId": "393a9412-d5a3-4797-c9e4-03bf95f8efdf"
      },
      "execution_count": 76,
      "outputs": [
        {
          "output_type": "stream",
          "name": "stdout",
          "text": [
            "[[10 10 10]\n",
            " [10 10 10]\n",
            " [10 10 10]]\n"
          ]
        }
      ]
    },
    {
      "cell_type": "code",
      "source": [
        "# subtract 는 a - b\n",
        "a = np.arange(1, 10).reshape(3, 3)\n",
        "b = np.arange(9, 0, -1).reshape(3,3)\n",
        "d = np.subtract(a,b)\n",
        "print(d)"
      ],
      "metadata": {
        "colab": {
          "base_uri": "https://localhost:8080/"
        },
        "id": "X5V0Em10YvgG",
        "outputId": "02b70d39-d947-44a2-ed77-72f1fab91e58"
      },
      "execution_count": 77,
      "outputs": [
        {
          "output_type": "stream",
          "name": "stdout",
          "text": [
            "[[-8 -6 -4]\n",
            " [-2  0  2]\n",
            " [ 4  6  8]]\n"
          ]
        }
      ]
    },
    {
      "cell_type": "code",
      "source": [
        "# multiply 는 a * b\n",
        "a = np.arange(1, 10).reshape(3, 3)\n",
        "b = np.arange(9, 0, -1).reshape(3,3)\n",
        "e = np.multiply(a,b)\n",
        "print(e)"
      ],
      "metadata": {
        "colab": {
          "base_uri": "https://localhost:8080/"
        },
        "id": "2WpvgPuRY9wc",
        "outputId": "8131c485-5a78-46af-eb85-0a505d02512d"
      },
      "execution_count": 78,
      "outputs": [
        {
          "output_type": "stream",
          "name": "stdout",
          "text": [
            "[[ 9 16 21]\n",
            " [24 25 24]\n",
            " [21 16  9]]\n"
          ]
        }
      ]
    },
    {
      "cell_type": "code",
      "source": [
        "# divide 는 a / b\n",
        "a = np.arange(1, 10).reshape(3, 3)\n",
        "b = np.arange(9, 0, -1).reshape(3,3)\n",
        "f = np.divide(a,b)\n",
        "print(f)"
      ],
      "metadata": {
        "colab": {
          "base_uri": "https://localhost:8080/"
        },
        "id": "GZ1PJpVVZTbs",
        "outputId": "4bc9fda7-71e6-4f50-b9ac-cc62f84e4ab2"
      },
      "execution_count": 79,
      "outputs": [
        {
          "output_type": "stream",
          "name": "stdout",
          "text": [
            "[[0.11111111 0.25       0.42857143]\n",
            " [0.66666667 1.         1.5       ]\n",
            " [2.33333333 4.         9.        ]]\n"
          ]
        }
      ]
    },
    {
      "cell_type": "code",
      "source": [
        "# dot 는 메트릭스 곱\n",
        "a = np.arange(1, 10).reshape(3, 3)\n",
        "b = np.arange(9, 0, -1).reshape(3,3)\n",
        "g = np.dot(a,b)\n",
        "print(g)"
      ],
      "metadata": {
        "colab": {
          "base_uri": "https://localhost:8080/"
        },
        "id": "pcKdrnLkZaXU",
        "outputId": "d64b7eba-03a3-49c7-ffc9-fc523e26d47c"
      },
      "execution_count": 80,
      "outputs": [
        {
          "output_type": "stream",
          "name": "stdout",
          "text": [
            "[[ 30  24  18]\n",
            " [ 84  69  54]\n",
            " [138 114  90]]\n"
          ]
        }
      ]
    },
    {
      "cell_type": "code",
      "source": [
        "np.exp(a)"
      ],
      "metadata": {
        "colab": {
          "base_uri": "https://localhost:8080/"
        },
        "id": "EWmSUtgAZm40",
        "outputId": "b94a7af3-ec64-4f21-a4ba-cd839a70d89e"
      },
      "execution_count": 81,
      "outputs": [
        {
          "output_type": "execute_result",
          "data": {
            "text/plain": [
              "array([[2.71828183e+00, 7.38905610e+00, 2.00855369e+01],\n",
              "       [5.45981500e+01, 1.48413159e+02, 4.03428793e+02],\n",
              "       [1.09663316e+03, 2.98095799e+03, 8.10308393e+03]])"
            ]
          },
          "metadata": {},
          "execution_count": 81
        }
      ]
    },
    {
      "cell_type": "code",
      "source": [
        "np.sqrt(a)"
      ],
      "metadata": {
        "colab": {
          "base_uri": "https://localhost:8080/"
        },
        "id": "5xaAxFQ0Zsd8",
        "outputId": "9e3eb004-7b1c-44ea-b4c1-ad290d1a9bc5"
      },
      "execution_count": 82,
      "outputs": [
        {
          "output_type": "execute_result",
          "data": {
            "text/plain": [
              "array([[1.        , 1.41421356, 1.73205081],\n",
              "       [2.        , 2.23606798, 2.44948974],\n",
              "       [2.64575131, 2.82842712, 3.        ]])"
            ]
          },
          "metadata": {},
          "execution_count": 82
        }
      ]
    },
    {
      "cell_type": "code",
      "source": [
        "np.sin(a)"
      ],
      "metadata": {
        "colab": {
          "base_uri": "https://localhost:8080/"
        },
        "id": "mCsPFLh0ZuzD",
        "outputId": "2794bf7a-d926-4ab6-fd32-3603a672a561"
      },
      "execution_count": 83,
      "outputs": [
        {
          "output_type": "execute_result",
          "data": {
            "text/plain": [
              "array([[ 0.84147098,  0.90929743,  0.14112001],\n",
              "       [-0.7568025 , -0.95892427, -0.2794155 ],\n",
              "       [ 0.6569866 ,  0.98935825,  0.41211849]])"
            ]
          },
          "metadata": {},
          "execution_count": 83
        }
      ]
    },
    {
      "cell_type": "code",
      "source": [
        "np.cos(a)"
      ],
      "metadata": {
        "colab": {
          "base_uri": "https://localhost:8080/"
        },
        "id": "EOCJnn64Zvvk",
        "outputId": "709e4f2f-4997-4a59-c64f-9de2b4510da1"
      },
      "execution_count": 84,
      "outputs": [
        {
          "output_type": "execute_result",
          "data": {
            "text/plain": [
              "array([[ 0.54030231, -0.41614684, -0.9899925 ],\n",
              "       [-0.65364362,  0.28366219,  0.96017029],\n",
              "       [ 0.75390225, -0.14550003, -0.91113026]])"
            ]
          },
          "metadata": {},
          "execution_count": 84
        }
      ]
    },
    {
      "cell_type": "code",
      "source": [
        "np.tan(a)"
      ],
      "metadata": {
        "colab": {
          "base_uri": "https://localhost:8080/"
        },
        "id": "0Jl8UyfIZwnV",
        "outputId": "2ea82739-347b-4b9b-de37-1bf274fe3e08"
      },
      "execution_count": 85,
      "outputs": [
        {
          "output_type": "execute_result",
          "data": {
            "text/plain": [
              "array([[ 1.55740772, -2.18503986, -0.14254654],\n",
              "       [ 1.15782128, -3.38051501, -0.29100619],\n",
              "       [ 0.87144798, -6.79971146, -0.45231566]])"
            ]
          },
          "metadata": {},
          "execution_count": 85
        }
      ]
    },
    {
      "cell_type": "code",
      "source": [
        "np.log(a)"
      ],
      "metadata": {
        "colab": {
          "base_uri": "https://localhost:8080/"
        },
        "id": "P6si7sZXZxW8",
        "outputId": "11d41181-296e-40ce-c246-e69c41b95a7e"
      },
      "execution_count": 86,
      "outputs": [
        {
          "output_type": "execute_result",
          "data": {
            "text/plain": [
              "array([[0.        , 0.69314718, 1.09861229],\n",
              "       [1.38629436, 1.60943791, 1.79175947],\n",
              "       [1.94591015, 2.07944154, 2.19722458]])"
            ]
          },
          "metadata": {},
          "execution_count": 86
        }
      ]
    },
    {
      "cell_type": "code",
      "source": [
        "import matplotlib.pyplot as plt\n",
        "# from matplotlib import pyplot as plt"
      ],
      "metadata": {
        "id": "BfsVGjr6ZyBU"
      },
      "execution_count": 87,
      "outputs": []
    },
    {
      "cell_type": "code",
      "source": [
        "plt.plot([1,2,3],[10,20,-10])\n",
        "plt.show()"
      ],
      "metadata": {
        "colab": {
          "base_uri": "https://localhost:8080/",
          "height": 265
        },
        "id": "VkVf6eSWaIbE",
        "outputId": "70d3b524-7b07-4516-acfd-ab56f6db4c44"
      },
      "execution_count": 88,
      "outputs": [
        {
          "output_type": "display_data",
          "data": {
            "text/plain": [
              "<Figure size 432x288 with 1 Axes>"
            ],
            "image/png": "[encoded data removed]"
          },
          "metadata": {
            "needs_background": "light"
          }
        }
      ]
    },
    {
      "cell_type": "code",
      "source": [
        "plt.plot([1,3,7],[20,60,40])\n",
        "plt.show()"
      ],
      "metadata": {
        "colab": {
          "base_uri": "https://localhost:8080/",
          "height": 265
        },
        "id": "A87yRM6TaOYM",
        "outputId": "81d8cc76-c922-4700-ee3a-f4d249cc6fcd"
      },
      "execution_count": 89,
      "outputs": [
        {
          "output_type": "display_data",
          "data": {
            "text/plain": [
              "<Figure size 432x288 with 1 Axes>"
            ],
            "image/png": "[encoded data removed]"
          },
          "metadata": {
            "needs_background": "light"
          }
        }
      ]
    },
    {
      "cell_type": "code",
      "source": [
        "plt.plot([10,20,-10])\n",
        "plt.show()"
      ],
      "metadata": {
        "colab": {
          "base_uri": "https://localhost:8080/",
          "height": 265
        },
        "id": "Ebtv4ewkaYp0",
        "outputId": "e07def48-61e4-4e01-b866-57cb1e42cd3e"
      },
      "execution_count": 90,
      "outputs": [
        {
          "output_type": "display_data",
          "data": {
            "text/plain": [
              "<Figure size 432x288 with 1 Axes>"
            ],
            "image/png": "[encoded data removed]"
          },
          "metadata": {
            "needs_background": "light"
          }
        }
      ]
    },
    {
      "cell_type": "code",
      "source": [
        "plt.plot([4,6,10,11],[10,20,25,30])\n",
        "plt.xlabel('x-axis') #xlabel은 x축이름\n",
        "plt.ylabel('y-axis') #ylabel은 y축이름\n",
        "plt.title('Data') #title은 제목\n",
        "plt.show"
      ],
      "metadata": {
        "colab": {
          "base_uri": "https://localhost:8080/",
          "height": 313
        },
        "id": "HLTuKYkuagVk",
        "outputId": "633b198c-3454-4d5f-cd01-b0d4534a8ed1"
      },
      "execution_count": 91,
      "outputs": [
        {
          "output_type": "execute_result",
          "data": {
            "text/plain": [
              "<function matplotlib.pyplot.show>"
            ]
          },
          "metadata": {},
          "execution_count": 91
        },
        {
          "output_type": "display_data",
          "data": {
            "text/plain": [
              "<Figure size 432x288 with 1 Axes>"
            ],
            "image/png": "[encoded data removed]"
          },
          "metadata": {
            "needs_background": "light"
          }
        }
      ]
    },
    {
      "cell_type": "code",
      "source": [
        "# sin함수 그리기\n",
        "x = np.linspace(0, 2 * np.pi, 100)"
      ],
      "metadata": {
        "id": "6gXQXcxuazHr"
      },
      "execution_count": 92,
      "outputs": []
    },
    {
      "cell_type": "code",
      "source": [
        "#sin(x) 위에 점 생성\n",
        "y = np.sin(x)"
      ],
      "metadata": {
        "id": "Fs7ikwU1a9Xz"
      },
      "execution_count": 94,
      "outputs": []
    },
    {
      "cell_type": "code",
      "source": [
        "plt.plot(x,y)\n",
        "plt.xlabel('x-axis')\n",
        "plt.ylabel('y-axis')\n",
        "plt.title('Sin(x)')\n",
        "plt.show()"
      ],
      "metadata": {
        "colab": {
          "base_uri": "https://localhost:8080/",
          "height": 295
        },
        "id": "_BfLlIr7a_VL",
        "outputId": "88900d86-4e78-4436-f89b-c2504740a2c9"
      },
      "execution_count": 96,
      "outputs": [
        {
          "output_type": "display_data",
          "data": {
            "text/plain": [
              "<Figure size 432x288 with 1 Axes>"
            ],
            "image/png": "[encoded data removed]"
          },
          "metadata": {
            "needs_background": "light"
          }
        }
      ]
    },
    {
      "cell_type": "code",
      "source": [
        "# x축 생성\n",
        "x = np.linspace(0, 2 * np.pi, 100)"
      ],
      "metadata": {
        "id": "VNQw9dpIbN0M"
      },
      "execution_count": 97,
      "outputs": []
    },
    {
      "cell_type": "code",
      "source": [
        "# y=sin(x)+cos(x)+10\n",
        "y = np.sin(x) + np.cos(x) + 10"
      ],
      "metadata": {
        "id": "NUhsg5W5bbOT"
      },
      "execution_count": 98,
      "outputs": []
    },
    {
      "cell_type": "code",
      "source": [
        "plt.plot(x,y)\n",
        "plt.xlabel('x-axis')\n",
        "plt.ylabel('y-axis')\n",
        "plt.title('y=sin(x)+cos(x)+10')\n",
        "plt.show()"
      ],
      "metadata": {
        "colab": {
          "base_uri": "https://localhost:8080/",
          "height": 295
        },
        "id": "p8XvFgT9bj0T",
        "outputId": "e49fb78f-a34b-48b5-d15e-bec151f8de3c"
      },
      "execution_count": 99,
      "outputs": [
        {
          "output_type": "display_data",
          "data": {
            "text/plain": [
              "<Figure size 432x288 with 1 Axes>"
            ],
            "image/png": "[encoded data removed]"
          },
          "metadata": {
            "needs_background": "light"
          }
        }
      ]
    },
    {
      "cell_type": "code",
      "source": [
        "# 두개의 함수 생성\n",
        "x = np.linspace(0, 2 * np.pi, 100)\n",
        "y1 = np.sin(x)\n",
        "y2 = np.sin(x) + np.cos(x)"
      ],
      "metadata": {
        "id": "lIJYkgK0bpgL"
      },
      "execution_count": 100,
      "outputs": []
    },
    {
      "cell_type": "code",
      "source": [
        "plt.plot(x,y1,x,y2)\n",
        "plt.xlabel('x-axis')\n",
        "plt.ylabel('y-axis')\n",
        "plt.title('Two functions')\n",
        "plt.legend(['sin(x)', 'sin(x)+con(x)'])\n",
        "plt.show()"
      ],
      "metadata": {
        "colab": {
          "base_uri": "https://localhost:8080/",
          "height": 295
        },
        "id": "CBi6w6-Kb09L",
        "outputId": "9b2b51da-6084-4bd1-cc4c-60b40eed7db5"
      },
      "execution_count": 101,
      "outputs": [
        {
          "output_type": "display_data",
          "data": {
            "text/plain": [
              "<Figure size 432x288 with 1 Axes>"
            ],
            "image/png": "[encoded data removed]"
          },
          "metadata": {
            "needs_background": "light"
          }
        }
      ]
    },
    {
      "cell_type": "code",
      "source": [
        "# Tick 설정\n",
        "x = np.linspace(0, 2 * np.pi, 100)\n",
        "y1 = np.sin(x)\n",
        "y2 = np.sin(x) + np.cos(x)"
      ],
      "metadata": {
        "id": "B6npDXHAcGDT"
      },
      "execution_count": 102,
      "outputs": []
    },
    {
      "cell_type": "code",
      "source": [
        "plt.plot(x,y1,x,y2)\n",
        "\n",
        "plt.xticks([0, np.pi, 2 * np.pi])\n",
        "plt.yticks([-1, 0, +1])\n",
        "\n",
        "plt.xlabel('x-axis')\n",
        "plt.ylabel('y-axis')\n",
        "plt.title('Two functions')\n",
        "plt.legend(['sin(x)', 'sin(x)+cos(x)'])\n",
        "plt.show()"
      ],
      "metadata": {
        "colab": {
          "base_uri": "https://localhost:8080/",
          "height": 295
        },
        "id": "wAj8NKiIcbtq",
        "outputId": "b8d850c4-1bab-4b1f-b718-fcd0eaf8417a"
      },
      "execution_count": 103,
      "outputs": [
        {
          "output_type": "display_data",
          "data": {
            "text/plain": [
              "<Figure size 432x288 with 1 Axes>"
            ],
            "image/png": "[encoded data removed]"
          },
          "metadata": {
            "needs_background": "light"
          }
        }
      ]
    },
    {
      "cell_type": "code",
      "source": [
        "x = np.linspace(0, 2 * np.pi, 10)\n",
        "y1 = np.sin(x)\n",
        "y2 = np.sin(x) + np.cos(x)\n",
        "\n",
        "# r : red , k : black\n",
        "# -- : 점선\n",
        "# o : 동그라미 마크 , s : 박스 마크\n",
        "plt.plot(x,y1,'ro--',x,y2,'ks-')\n",
        "\n",
        "plt.xticks([0, np.pi, 2 * np.pi])\n",
        "plt.yticks([-1, 0, +1])\n",
        "\n",
        "plt.xlabel('x-axis')\n",
        "plt.ylabel('y-axis')\n",
        "plt.title('Two functions')\n",
        "plt.legend(['sin(x)', 'sin(x)+cos(x)'])\n",
        "plt.show()"
      ],
      "metadata": {
        "colab": {
          "base_uri": "https://localhost:8080/",
          "height": 295
        },
        "id": "74H4q1U1cxYj",
        "outputId": "ede72a53-77bb-4a18-9444-24b145268146"
      },
      "execution_count": 105,
      "outputs": [
        {
          "output_type": "display_data",
          "data": {
            "text/plain": [
              "<Figure size 432x288 with 1 Axes>"
            ],
            "image/png": "[encoded data removed]"
          },
          "metadata": {
            "needs_background": "light"
          }
        }
      ]
    },
    {
      "cell_type": "code",
      "source": [
        "# Bar 차트\n",
        "\n",
        "x= np.linspace(1,6,6)\n",
        "y=np.array([10,8,4,9,5,2])\n",
        "\n",
        "plt.bar(x,y)\n",
        "plt.xlabel('x-axis')\n",
        "plt.ylabel('y-axis')\n",
        "plt.title('Bar Example')\n",
        "plt.show()"
      ],
      "metadata": {
        "colab": {
          "base_uri": "https://localhost:8080/",
          "height": 295
        },
        "id": "NL-FSnnldPkC",
        "outputId": "3ab2885f-a751-46d3-f77c-a69e35bf52ae"
      },
      "execution_count": 106,
      "outputs": [
        {
          "output_type": "display_data",
          "data": {
            "text/plain": [
              "<Figure size 432x288 with 1 Axes>"
            ],
            "image/png": "[encoded data removed]"
          },
          "metadata": {
            "needs_background": "light"
          }
        }
      ]
    },
    {
      "cell_type": "code",
      "source": [
        "import math\n",
        "#math.pi\n",
        "#math.e\n",
        "#math.factorial(n)\n",
        "#math.pow(2,3)=8"
      ],
      "metadata": {
        "id": "6gCwZbGRd3Ui"
      },
      "execution_count": 109,
      "outputs": []
    },
    {
      "cell_type": "code",
      "source": [
        "math.log(2)"
      ],
      "metadata": {
        "colab": {
          "base_uri": "https://localhost:8080/"
        },
        "id": "HGGV1trod805",
        "outputId": "cd97d4a5-865e-43b0-c83c-943f498b6139"
      },
      "execution_count": 110,
      "outputs": [
        {
          "output_type": "execute_result",
          "data": {
            "text/plain": [
              "0.6931471805599453"
            ]
          },
          "metadata": {},
          "execution_count": 110
        }
      ]
    },
    {
      "cell_type": "code",
      "source": [
        "math.log(4,2)"
      ],
      "metadata": {
        "colab": {
          "base_uri": "https://localhost:8080/"
        },
        "id": "ZNkdW8axeIZK",
        "outputId": "21fcb506-3c6b-4c5a-e96c-4c8576ce3800"
      },
      "execution_count": 111,
      "outputs": [
        {
          "output_type": "execute_result",
          "data": {
            "text/plain": [
              "2.0"
            ]
          },
          "metadata": {},
          "execution_count": 111
        }
      ]
    },
    {
      "cell_type": "code",
      "source": [
        "math.log10"
      ],
      "metadata": {
        "colab": {
          "base_uri": "https://localhost:8080/"
        },
        "id": "hZnKsmSmeKK2",
        "outputId": "75c1c7ee-fc7f-4a82-82ff-c472d3980481"
      },
      "execution_count": 112,
      "outputs": [
        {
          "output_type": "execute_result",
          "data": {
            "text/plain": [
              "<function math.log10>"
            ]
          },
          "metadata": {},
          "execution_count": 112
        }
      ]
    },
    {
      "cell_type": "code",
      "source": [
        "math.log(10)"
      ],
      "metadata": {
        "colab": {
          "base_uri": "https://localhost:8080/"
        },
        "id": "2D0NUnDZeLsS",
        "outputId": "d8481e37-8e23-4988-d5fc-52042449ac07"
      },
      "execution_count": 113,
      "outputs": [
        {
          "output_type": "execute_result",
          "data": {
            "text/plain": [
              "2.302585092994046"
            ]
          },
          "metadata": {},
          "execution_count": 113
        }
      ]
    },
    {
      "cell_type": "code",
      "source": [
        "math.log10(1000)"
      ],
      "metadata": {
        "colab": {
          "base_uri": "https://localhost:8080/"
        },
        "id": "eP5P-7aKeP3K",
        "outputId": "c2ac60a5-2bba-4ab6-e8a4-cfe880f5f792"
      },
      "execution_count": 114,
      "outputs": [
        {
          "output_type": "execute_result",
          "data": {
            "text/plain": [
              "3.0"
            ]
          },
          "metadata": {},
          "execution_count": 114
        }
      ]
    },
    {
      "cell_type": "code",
      "source": [
        "math.log2(4)"
      ],
      "metadata": {
        "colab": {
          "base_uri": "https://localhost:8080/"
        },
        "id": "ySCgX1hceSKq",
        "outputId": "ea17e8ca-5c9a-49e2-b6f6-5b4854646c5e"
      },
      "execution_count": 115,
      "outputs": [
        {
          "output_type": "execute_result",
          "data": {
            "text/plain": [
              "2.0"
            ]
          },
          "metadata": {},
          "execution_count": 115
        }
      ]
    },
    {
      "cell_type": "code",
      "source": [
        "#각도변환\n",
        "# math.degrees(x) 라디안에서 degree로 변환\n",
        "# math.radians(x) degree에서 라디안으로 변환"
      ],
      "metadata": {
        "id": "Uz9j_vj8eTuS"
      },
      "execution_count": 116,
      "outputs": []
    },
    {
      "cell_type": "code",
      "source": [
        "def func(n):\n",
        "  lv=n+1\n",
        "  print(lv)\n",
        "\n",
        "func(12)"
      ],
      "metadata": {
        "colab": {
          "base_uri": "https://localhost:8080/"
        },
        "id": "V072JnehehUd",
        "outputId": "1061b303-fa83-4cf5-bf0c-8638cd8e2e52"
      },
      "execution_count": 117,
      "outputs": [
        {
          "output_type": "stream",
          "name": "stdout",
          "text": [
            "13\n"
          ]
        }
      ]
    },
    {
      "cell_type": "code",
      "source": [
        "print(lv)"
      ],
      "metadata": {
        "colab": {
          "base_uri": "https://localhost:8080/",
          "height": 174
        },
        "id": "Lj6FaDzEhadx",
        "outputId": "f019795a-f5f1-48db-b619-0b9afdf13710"
      },
      "execution_count": 118,
      "outputs": [
        {
          "output_type": "error",
          "ename": "NameError",
          "evalue": "ignored",
          "traceback": [
            "\u001b[0;31m---------------------------------------------------------------------------\u001b[0m",
            "\u001b[0;31mNameError\u001b[0m                                 Traceback (most recent call last)",
            "\u001b[0;32m<ipython-input-118-c2619d26e931>\u001b[0m in \u001b[0;36m<module>\u001b[0;34m()\u001b[0m\n\u001b[0;32m----> 1\u001b[0;31m \u001b[0mprint\u001b[0m\u001b[0;34m(\u001b[0m\u001b[0mlv\u001b[0m\u001b[0;34m)\u001b[0m\u001b[0;34m\u001b[0m\u001b[0;34m\u001b[0m\u001b[0m\n\u001b[0m",
            "\u001b[0;31mNameError\u001b[0m: name 'lv' is not defined"
          ]
        }
      ]
    },
    {
      "cell_type": "code",
      "source": [
        "n = 10\n",
        "\n",
        "def func2():\n",
        "  lv=n+1\n",
        "  print(lv)\n",
        "\n",
        "func2()"
      ],
      "metadata": {
        "colab": {
          "base_uri": "https://localhost:8080/"
        },
        "id": "n5qbkucvhevJ",
        "outputId": "3be3ef57-186f-40ce-a44f-a3a94dbb2023"
      },
      "execution_count": 119,
      "outputs": [
        {
          "output_type": "stream",
          "name": "stdout",
          "text": [
            "11\n"
          ]
        }
      ]
    },
    {
      "cell_type": "code",
      "source": [
        "n = 10\n",
        "\n",
        "def func2():\n",
        "  n = 0\n",
        "  lv = n + 1\n",
        "  print(lv)\n",
        "\n",
        "func2()"
      ],
      "metadata": {
        "colab": {
          "base_uri": "https://localhost:8080/"
        },
        "id": "5isSK0h2hntB",
        "outputId": "4303fde6-297f-4cd6-c4dc-9679fd0c945e"
      },
      "execution_count": 120,
      "outputs": [
        {
          "output_type": "stream",
          "name": "stdout",
          "text": [
            "1\n"
          ]
        }
      ]
    },
    {
      "cell_type": "code",
      "source": [
        "print(n)"
      ],
      "metadata": {
        "colab": {
          "base_uri": "https://localhost:8080/"
        },
        "id": "pmKDc3Sjh1Vh",
        "outputId": "b2dba4f5-49b7-469a-b4d0-22f9fdcca942"
      },
      "execution_count": 121,
      "outputs": [
        {
          "output_type": "stream",
          "name": "stdout",
          "text": [
            "10\n"
          ]
        }
      ]
    },
    {
      "cell_type": "code",
      "source": [
        "n = 10\n",
        "\n",
        "def func2():\n",
        "  global n\n",
        "  n = 0\n",
        "  lv = n + 1\n",
        "  print(lv)\n",
        "\n",
        "func2()"
      ],
      "metadata": {
        "colab": {
          "base_uri": "https://localhost:8080/"
        },
        "id": "xosHA6zlh2N4",
        "outputId": "4b90f814-f026-49d8-9eaa-a08139c78068"
      },
      "execution_count": 122,
      "outputs": [
        {
          "output_type": "stream",
          "name": "stdout",
          "text": [
            "1\n"
          ]
        }
      ]
    },
    {
      "cell_type": "code",
      "source": [
        "print(n)"
      ],
      "metadata": {
        "colab": {
          "base_uri": "https://localhost:8080/"
        },
        "id": "t5rpqS0dh-AI",
        "outputId": "b595ced6-d61d-4faa-8328-5b147308d16f"
      },
      "execution_count": 123,
      "outputs": [
        {
          "output_type": "stream",
          "name": "stdout",
          "text": [
            "0\n"
          ]
        }
      ]
    },
    {
      "cell_type": "code",
      "source": [
        "fa_age = 39\n",
        "def up_fa_age():\n",
        "  global fa_age\n",
        "  fa_age += 1\n",
        "\n",
        "def get_fa_age():\n",
        "  return fa_age\n",
        "\n",
        "print('2019년')\n",
        "print('아빠:', get_fa_age())\n",
        "print('2020년')\n",
        "up_fa_age()\n",
        "print('아빠:', get_fa_age())"
      ],
      "metadata": {
        "colab": {
          "base_uri": "https://localhost:8080/"
        },
        "id": "2isq36_dh_SA",
        "outputId": "75325be5-caf0-46d4-ed66-adfe920e6a97"
      },
      "execution_count": 124,
      "outputs": [
        {
          "output_type": "stream",
          "name": "stdout",
          "text": [
            "2019년\n",
            "아빠: 39\n",
            "2020년\n",
            "아빠: 40\n"
          ]
        }
      ]
    },
    {
      "cell_type": "code",
      "source": [
        "class AgenInfo:\n",
        "  def up_age(self):\n",
        "    self.age += 1\n",
        "  def get_age(self):\n",
        "    return self.age"
      ],
      "metadata": {
        "id": "I6lXpVz5iX7g"
      },
      "execution_count": 125,
      "outputs": []
    },
    {
      "cell_type": "code",
      "source": [
        "fa = AgenInfo()\n",
        "fa.age = 39\n",
        "\n",
        "print('아빠의 나이:', fa.get_age())\n",
        "print('1년 뒤...')\n",
        "fa.up_age()\n",
        "print('아빠의 나이: ', fa.get_age())"
      ],
      "metadata": {
        "colab": {
          "base_uri": "https://localhost:8080/"
        },
        "id": "UVM5wnGPip54",
        "outputId": "21d71fc0-64e3-43b6-aa5c-81b908439936"
      },
      "execution_count": 126,
      "outputs": [
        {
          "output_type": "stream",
          "name": "stdout",
          "text": [
            "아빠의 나이: 39\n",
            "1년 뒤...\n",
            "아빠의 나이:  40\n"
          ]
        }
      ]
    },
    {
      "cell_type": "code",
      "source": [
        "class AgenInfo:\n",
        "  def up_age(self):\n",
        "    self.age += 1\n",
        "  def get_age(self):\n",
        "    return self.age\n",
        "\n",
        "fa = AgenInfo()\n",
        "mo = AgenInfo()\n",
        "si = AgenInfo()\n",
        "\n",
        "fa.age = 50\n",
        "mo.age = 49\n",
        "si.age = 30\n",
        "\n",
        "\n",
        "print('아빠의 나이 :', fa.get_age())\n",
        "print('엄마의 나이 :', mo.get_age())\n",
        "print('누나의 나이 :', si.get_age())\n",
        "\n",
        "print('1년 뒤...')\n",
        "fa.up_age()\n",
        "mo.up_age()\n",
        "si.up_age()\n",
        "print('아빠의 나이 :', fa.get_age())\n",
        "print('엄마의 나이 :', mo.get_age())\n",
        "print('누나의 나이 :', si.get_age())"
      ],
      "metadata": {
        "colab": {
          "base_uri": "https://localhost:8080/"
        },
        "id": "DXjL1lz3jBkw",
        "outputId": "f8244ef0-411f-4fe5-f7eb-36096d2159f1"
      },
      "execution_count": 129,
      "outputs": [
        {
          "output_type": "stream",
          "name": "stdout",
          "text": [
            "아빠의 나이 : 50\n",
            "엄마의 나이 : 49\n",
            "누나의 나이 : 30\n",
            "1년 뒤...\n",
            "아빠의 나이 : 51\n",
            "엄마의 나이 : 50\n",
            "누나의 나이 : 31\n"
          ]
        }
      ]
    },
    {
      "cell_type": "code",
      "source": [
        "import math\n",
        "import matplotlib.pyplot as plt\n",
        "class sin_graph:\n",
        "  def generate_x_y(self):\n",
        "    self.x=[]\n",
        "    self.y=[]\n",
        "    self.dx=(self.end-self.st)/(self.n-1)\n",
        "    for i in range(self.n):\n",
        "      x_=self.st + self.dx * i\n",
        "      self.x.append(x_)\n",
        "      self.y.append(math.sin(x_))\n",
        "\n",
        "  def plot(self):\n",
        "    plt.plot(self.x,self.y)\n",
        "    plt.show()"
      ],
      "metadata": {
        "id": "arJAXnx_jvD7"
      },
      "execution_count": 147,
      "outputs": []
    },
    {
      "cell_type": "code",
      "source": [
        "g1 = sin_graph()\n",
        "g1.st = 0\n",
        "g1.end = 2 * math.pi\n",
        "g1.n = 10\n",
        "\n",
        "g1.generate_x_y()\n",
        "g1.plot()"
      ],
      "metadata": {
        "colab": {
          "base_uri": "https://localhost:8080/",
          "height": 265
        },
        "id": "mpFAJTbVkeNn",
        "outputId": "dee7559a-31d0-4b99-dd52-cb032eedb4e3"
      },
      "execution_count": 150,
      "outputs": [
        {
          "output_type": "display_data",
          "data": {
            "text/plain": [
              "<Figure size 432x288 with 1 Axes>"
            ],
            "image/png": "[encoded data removed]"
          },
          "metadata": {
            "needs_background": "light"
          }
        }
      ]
    },
    {
      "cell_type": "code",
      "source": [
        "class sin_graph:\n",
        "  def setting(self, st, ed, n):\n",
        "    self.st = st\n",
        "    self.ed = ed\n",
        "    self.n = n\n",
        "\n",
        "  def generate_x_y(self):\n",
        "    self.x=[]\n",
        "    self.y=[]\n",
        "    self.dx=(self.ed - self.st)/(self.n - 1)\n",
        "\n",
        "    for i in range(self.n):\n",
        "      x_ = self.st + self.dx * i\n",
        "      self.x.append(x_)\n",
        "      self.y.append(math.sin(x_))\n",
        "\n",
        "  def plot(self):\n",
        "    plt.plot(self.x,self.y)\n",
        "    plt.show()"
      ],
      "metadata": {
        "id": "nuF6NY8nk3Wn"
      },
      "execution_count": 155,
      "outputs": []
    },
    {
      "cell_type": "code",
      "source": [
        "g1 = sin_graph()\n",
        "g1.setting(0, 2 * math.pi, 100)\n",
        "g1.generate_x_y()\n",
        "g1.plot()"
      ],
      "metadata": {
        "colab": {
          "base_uri": "https://localhost:8080/",
          "height": 265
        },
        "id": "oIEX5EEyk5iv",
        "outputId": "38de0726-21d6-422b-de88-5e3cff7e496a"
      },
      "execution_count": 153,
      "outputs": [
        {
          "output_type": "display_data",
          "data": {
            "text/plain": [
              "<Figure size 432x288 with 1 Axes>"
            ],
            "image/png": "[encoded data removed]"
          },
          "metadata": {
            "needs_background": "light"
          }
        }
      ]
    },
    {
      "cell_type": "code",
      "source": [
        "g2 = sin_graph()\n",
        "g2.setting(0, 4 * math.pi, 100)\n",
        "g2.generate_x_y()\n",
        "g2.plot()"
      ],
      "metadata": {
        "colab": {
          "base_uri": "https://localhost:8080/",
          "height": 265
        },
        "id": "-u4OmS46lZs3",
        "outputId": "7cf444a3-8a12-4e0b-ca0b-9792b728d53d"
      },
      "execution_count": 154,
      "outputs": [
        {
          "output_type": "display_data",
          "data": {
            "text/plain": [
              "<Figure size 432x288 with 1 Axes>"
            ],
            "image/png": "[encoded data removed]"
          },
          "metadata": {
            "needs_background": "light"
          }
        }
      ]
    },
    {
      "cell_type": "code",
      "source": [
        "class cos_graph:\n",
        "  def setting(self, st, ed, n):\n",
        "    self.st = st\n",
        "    self.ed = ed\n",
        "    self.n = n\n",
        "\n",
        "  def generate_x_y(self):\n",
        "    self.x=[]\n",
        "    self.y=[]\n",
        "    self.dx=(self.ed - self.st)/(self.n - 1)\n",
        "\n",
        "    for i in range(self.n):\n",
        "      x_ = self.st + self.dx * i\n",
        "      self.x.append(x_)\n",
        "      self.y.append(math.cos(x_))\n",
        "\n",
        "  def plot(self):\n",
        "    plt.plot(self.x,self.y)\n",
        "    plt.show()"
      ],
      "metadata": {
        "id": "SjjW80y1nwHo"
      },
      "execution_count": 171,
      "outputs": []
    },
    {
      "cell_type": "code",
      "source": [
        "f1 = cos_graph()\n",
        "f1.setting(0, 2 * math.pi, 100)\n",
        "f1.generate_x_y()\n",
        "f1.plot()"
      ],
      "metadata": {
        "colab": {
          "base_uri": "https://localhost:8080/",
          "height": 265
        },
        "id": "HA3FG3U8ovcd",
        "outputId": "66834c9f-8bfa-45f0-f770-e01969a29534"
      },
      "execution_count": 172,
      "outputs": [
        {
          "output_type": "display_data",
          "data": {
            "text/plain": [
              "<Figure size 432x288 with 1 Axes>"
            ],
            "image/png": "[encoded data removed]"
          },
          "metadata": {
            "needs_background": "light"
          }
        }
      ]
    },
    {
      "cell_type": "code",
      "source": [
        "class Const:\n",
        "  def __init__(self):\n",
        "    print('new~')\n",
        "\n",
        "o1 = Const()\n",
        "o2 = Const()"
      ],
      "metadata": {
        "colab": {
          "base_uri": "https://localhost:8080/"
        },
        "id": "QUDkBterozA9",
        "outputId": "244a7257-fe9f-44db-fde1-3673169630b2"
      },
      "execution_count": 173,
      "outputs": [
        {
          "output_type": "stream",
          "name": "stdout",
          "text": [
            "new~\n",
            "new~\n"
          ]
        }
      ]
    },
    {
      "cell_type": "code",
      "source": [
        "class Const:\n",
        "  def __init__(self,n1,n2):\n",
        "    self.n1 = n1\n",
        "    self.n2 = n2\n",
        "  def show_data(self):\n",
        "    print(self.n1,self.n2)\n",
        "\n",
        "o1 = Const(1,2)\n",
        "o2 = Const(3,4)"
      ],
      "metadata": {
        "id": "flgmwVpMplDe"
      },
      "execution_count": 174,
      "outputs": []
    },
    {
      "cell_type": "code",
      "source": [
        "o1.show_data()\n",
        "o2.show_data()"
      ],
      "metadata": {
        "colab": {
          "base_uri": "https://localhost:8080/"
        },
        "id": "iUDudYyVp1dl",
        "outputId": "1056bddd-437e-46c4-a73d-f6c51387335b"
      },
      "execution_count": 175,
      "outputs": [
        {
          "output_type": "stream",
          "name": "stdout",
          "text": [
            "1 2\n",
            "3 4\n"
          ]
        }
      ]
    },
    {
      "cell_type": "code",
      "source": [
        "class text_static:\n",
        "  def processLine(self,line,wordCounts):\n",
        "    line = self.replacePunctuations(line)\n",
        "    words = line.split()\n",
        "    for word in words:\n",
        "      if word in wordCounts:\n",
        "        wordCounts[word] += 1\n",
        "      else:\n",
        "        wordCounts[word] = 1\n",
        "\n",
        "  def replacePunctuations(self,line):\n",
        "    for ch in line:\n",
        "      if ch in '.,;:':\n",
        "        line = line.replace(ch,' ')\n",
        "\n",
        "    return line\n",
        "\n",
        "  def wordCount(self, filename):\n",
        "    f = open(\"I_have_a_dream.txt\",'r')\n",
        "    lines = f.readlines()\n",
        "    wordCounts = {}\n",
        "    for line in lines:\n",
        "      self.processLine(line.lower(), wordCounts)\n",
        "    return wordCounts\n",
        "\n",
        "  def arrange_pairs(self, wordCounts):\n",
        "    pairs = list(wordCounts.items())\n",
        "    items = [[x,y] for (y,x) in pairs]\n",
        "    items.sort()\n",
        "    items = {x:y for [y,x] in items}\n",
        "    return items\n"
      ],
      "metadata": {
        "id": "7Z6ObUGVp54M"
      },
      "execution_count": 213,
      "outputs": []
    },
    {
      "cell_type": "code",
      "source": [
        "T = text_static()"
      ],
      "metadata": {
        "id": "pAsNJ6IYqhJV"
      },
      "execution_count": 214,
      "outputs": []
    },
    {
      "cell_type": "code",
      "source": [
        "fn = \"I_have_a_dream.txt\""
      ],
      "metadata": {
        "id": "bb-g1z5Gw2N5"
      },
      "execution_count": 215,
      "outputs": []
    },
    {
      "cell_type": "code",
      "source": [
        "wordCounts = T.wordCount(fn)"
      ],
      "metadata": {
        "id": "IXHVf5PIxTD4"
      },
      "execution_count": 216,
      "outputs": []
    },
    {
      "cell_type": "code",
      "source": [
        "print(wordCounts)"
      ],
      "metadata": {
        "colab": {
          "base_uri": "https://localhost:8080/"
        },
        "id": "fsBT9TvSx3PB",
        "outputId": "7ec14d2e-7cf0-4916-a8c9-ecbab7d6980b"
      },
      "execution_count": 219,
      "outputs": [
        {
          "output_type": "stream",
          "name": "stdout",
          "text": [
            "{'i': 2, 'am': 1, 'happy': 1, 'to': 35, 'join': 1, 'with': 4, 'you': 2, 'today': 5, 'in': 16, 'what': 1, 'will': 9, 'go': 1, 'down': 2, 'history': 2, 'as': 19, 'the': 66, 'greatest': 1, 'demonstration': 1, 'for': 6, 'freedom': 6, 'of': 56, 'our': 14, 'nation': 6, 'five': 1, 'score': 1, 'years': 5, 'ago': 1, 'a': 22, 'great': 3, 'american': 3, 'whose': 1, 'symbolic': 1, 'shadow': 1, 'we': 19, 'stand': 2, 'signed': 1, 'emancipation': 1, 'proclamation': 1, 'this': 9, 'momentous': 1, 'decree': 1, 'came': 2, 'beacon': 1, 'light': 1, 'hope': 2, 'millions': 1, 'negro': 12, 'slaves': 1, 'who': 4, 'had': 1, 'been': 1, 'seared': 1, 'flames': 1, 'withering': 1, 'injustice': 2, 'it': 3, 'joyous': 1, 'daybreak': 1, 'end': 2, 'long': 6, 'night': 1, 'their': 6, 'captivity': 1, 'but': 4, 'one': 5, 'hundred': 4, 'later': 4, 'still': 3, 'is': 18, 'not': 9, 'free': 1, 'life': 1, 'sadly': 1, 'crippled': 1, 'by': 4, 'manacles': 1, 'segregation': 2, 'and': 22, 'chains': 1, 'discrimination': 1, 'lives': 1, 'on': 4, 'lonely': 1, 'island': 1, 'poverty': 1, 'midst': 1, 'vast': 1, 'ocean': 1, 'material': 1, 'prosperity': 1, 'languished': 1, 'corners': 1, 'society': 1, 'finds': 1, 'himself': 1, 'an': 3, 'exile': 1, 'his': 2, 'own': 1, 'land': 1, 'so': 2, \"we've\": 3, 'come': 7, 'here': 2, 'dramatize': 1, 'shameful': 1, 'condition': 1, 'sense': 1, \"nation's\": 1, 'capital': 1, 'cash': 2, 'check': 5, 'when': 1, 'architects': 1, 'republic': 1, 'wrote': 1, 'magnificent': 1, 'words': 1, 'constitution': 1, 'declaration': 1, 'independence': 1, 'they': 2, 'were': 1, 'signing': 1, 'promissory': 2, 'note': 3, 'which': 5, 'every': 1, 'was': 2, 'fall': 1, 'heir': 1, 'promise': 1, 'that': 10, 'all': 3, 'men': 3, 'yes': 1, 'black': 1, 'well': 1, 'white': 3, 'would': 2, 'be': 12, 'guaranteed': 1, '\"unalienable': 1, 'rights\"': 1, '\"life': 1, 'liberty': 1, 'pursuit': 1, 'happiness': 1, '\"': 2, 'obvious': 1, 'america': 4, 'has': 5, 'defaulted': 1, 'insofar': 1, 'her': 1, 'citizens': 1, 'color': 1, 'are': 6, 'concerned': 1, 'instead': 1, 'honoring': 1, 'sacred': 1, 'obligation': 1, 'given': 1, 'people': 3, 'bad': 1, 'back': 2, 'marked': 1, '\"insufficient': 1, 'funds': 2, 'refuse': 2, 'believe': 2, 'bank': 1, 'justice': 6, 'bankrupt': 1, 'there': 5, 'insufficient': 1, 'vaults': 1, 'opportunity': 1, 'give': 1, 'us': 3, 'upon': 1, 'demand': 1, 'riches': 1, 'security': 1, 'have': 4, 'also': 1, 'hallowed': 1, 'spot': 1, 'remind': 1, 'fierce': 1, 'urgency': 2, 'now': 6, 'no': 3, 'time': 5, 'engage': 1, 'luxury': 1, 'cooling': 1, 'off': 2, 'or': 1, 'take': 1, 'tranquilizing': 1, 'drug': 1, 'gradualism': 1, 'make': 3, 'real': 1, 'promises': 1, 'democracy': 1, 'rise': 2, 'from': 4, 'dark': 1, 'desolate': 1, 'valley': 1, 'sunlit': 1, 'path': 1, 'racial': 2, 'lift': 1, 'quicksands': 1, 'solid': 1, 'rock': 1, 'brotherhood': 1, 'reality': 1, \"god's\": 1, 'children': 2, 'fatal': 1, 'overlook': 1, 'moment': 1, 'sweltering': 1, 'summer': 1, \"negro's\": 2, 'legitimate': 1, 'discontent': 1, 'pass': 1, 'until': 4, 'invigorating': 1, 'autumn': 1, 'equality': 1, 'nineteen': 1, 'sixty-three': 1, 'beginning': 1, 'those': 2, 'needed': 1, 'blow': 1, 'steam': 1, 'content': 1, 'rude': 1, 'awakening': 1, 'if': 1, 'returns': 1, 'business': 1, 'usual': 1, 'neither': 1, 'rest': 1, 'nor': 1, 'tranquility': 1, 'granted': 1, 'citizenship': 1, 'rights': 2, 'whirlwinds': 1, 'revolt': 1, 'continue': 1, 'shake': 1, 'foundations': 1, 'bright': 1, 'day': 1, 'emerges': 1, 'something': 1, 'must': 7, 'say': 1, 'my': 1, 'warm': 1, 'threshold': 1, 'leads': 1, 'into': 2, 'palace': 1, 'process': 1, 'gaining': 1, 'rightful': 1, 'place': 1, 'guilty': 1, 'wrongful': 1, 'deeds': 1, 'let': 1, 'seek': 1, 'satisfy': 1, 'thirst': 1, 'drinking': 1, 'cup': 1, 'bitterness': 1, 'hatred': 1, 'forever': 1, 'conduct': 1, 'struggle': 1, 'high': 1, 'plane': 1, 'dignity': 2, 'discipline': 1, 'allow': 1, 'creative': 1, 'protest': 1, 'degenerate': 1, 'physical': 2, 'violence': 1, 'again': 2, 'majestic': 1, 'heights': 1, 'meeting': 1, 'force': 2, 'soul': 1, 'marvelous': 1, 'new': 2, 'militancy': 1, 'engulfed': 1, 'community': 1, 'lead': 1, 'distrust': 1, 'many': 1, 'brothers': 1, 'evidenced': 1, 'presence': 1, 'realize': 2, 'destiny': 2, 'tied': 1, 'up': 1, 'inextricably': 1, 'bound': 1, 'cannot': 6, 'walk': 2, 'alone': 1, 'pledge': 1, 'shall': 1, 'always': 1, 'march': 1, 'ahead': 1, 'turn': 1, 'asking': 1, 'devotees': 1, 'civil': 1, '\"when': 1, 'satisfied?\"': 1, 'can': 3, 'never': 3, 'satisfied': 7, 'victim': 1, 'unspeakable': 1, 'horrors': 1, 'police': 1, 'brutality': 1, 'bodies': 1, 'heavy': 1, 'fatigue': 1, 'travel': 1, 'gain': 1, 'lodging': 1, 'motels': 1, 'highways': 1, 'hotels': 1, 'cities': 1, '**we': 1, 'basic': 1, 'mobility': 1, 'smaller': 1, 'ghetto': 1, 'larger': 1, 'stripped': 1, 'self-hood': 1, 'robbed': 1, 'signs': 1, 'stating': 1, '\"for': 1, 'whites': 1, 'only': 1, '\"**': 1, 'mississippi': 1, 'vote': 2, 'york': 1, 'believes': 1, 'he': 1, 'nothing': 1, '\"justice': 1, 'rolls': 1, 'like': 2, 'waters': 1, 'righteousness': 1, 'mighty': 1, 'stream': 1, '\"1': 1}\n"
          ]
        }
      ]
    },
    {
      "cell_type": "code",
      "source": [
        "wordCounts = T.arrange_pairs(wordCounts)"
      ],
      "metadata": {
        "id": "x88PjMi1vzTC"
      },
      "execution_count": 220,
      "outputs": []
    },
    {
      "cell_type": "code",
      "source": [
        "wordCounts"
      ],
      "metadata": {
        "colab": {
          "base_uri": "https://localhost:8080/"
        },
        "id": "HdFUv5Kvx0Qh",
        "outputId": "68c04cd5-9157-437d-8a1a-e21646097702"
      },
      "execution_count": 221,
      "outputs": [
        {
          "output_type": "execute_result",
          "data": {
            "text/plain": [
              "{'\"': 2,\n",
              " '\"**': 1,\n",
              " '\"1': 1,\n",
              " '\"for': 1,\n",
              " '\"insufficient': 1,\n",
              " '\"justice': 1,\n",
              " '\"life': 1,\n",
              " '\"unalienable': 1,\n",
              " '\"when': 1,\n",
              " '**we': 1,\n",
              " 'a': 22,\n",
              " 'again': 2,\n",
              " 'ago': 1,\n",
              " 'ahead': 1,\n",
              " 'all': 3,\n",
              " 'allow': 1,\n",
              " 'alone': 1,\n",
              " 'also': 1,\n",
              " 'always': 1,\n",
              " 'am': 1,\n",
              " 'america': 4,\n",
              " 'american': 3,\n",
              " 'an': 3,\n",
              " 'and': 22,\n",
              " 'architects': 1,\n",
              " 'are': 6,\n",
              " 'as': 19,\n",
              " 'asking': 1,\n",
              " 'autumn': 1,\n",
              " 'awakening': 1,\n",
              " 'back': 2,\n",
              " 'bad': 1,\n",
              " 'bank': 1,\n",
              " 'bankrupt': 1,\n",
              " 'basic': 1,\n",
              " 'be': 12,\n",
              " 'beacon': 1,\n",
              " 'been': 1,\n",
              " 'beginning': 1,\n",
              " 'believe': 2,\n",
              " 'believes': 1,\n",
              " 'bitterness': 1,\n",
              " 'black': 1,\n",
              " 'blow': 1,\n",
              " 'bodies': 1,\n",
              " 'bound': 1,\n",
              " 'bright': 1,\n",
              " 'brotherhood': 1,\n",
              " 'brothers': 1,\n",
              " 'brutality': 1,\n",
              " 'business': 1,\n",
              " 'but': 4,\n",
              " 'by': 4,\n",
              " 'came': 2,\n",
              " 'can': 3,\n",
              " 'cannot': 6,\n",
              " 'capital': 1,\n",
              " 'captivity': 1,\n",
              " 'cash': 2,\n",
              " 'chains': 1,\n",
              " 'check': 5,\n",
              " 'children': 2,\n",
              " 'cities': 1,\n",
              " 'citizens': 1,\n",
              " 'citizenship': 1,\n",
              " 'civil': 1,\n",
              " 'color': 1,\n",
              " 'come': 7,\n",
              " 'community': 1,\n",
              " 'concerned': 1,\n",
              " 'condition': 1,\n",
              " 'conduct': 1,\n",
              " 'constitution': 1,\n",
              " 'content': 1,\n",
              " 'continue': 1,\n",
              " 'cooling': 1,\n",
              " 'corners': 1,\n",
              " 'creative': 1,\n",
              " 'crippled': 1,\n",
              " 'cup': 1,\n",
              " 'dark': 1,\n",
              " 'day': 1,\n",
              " 'daybreak': 1,\n",
              " 'declaration': 1,\n",
              " 'decree': 1,\n",
              " 'deeds': 1,\n",
              " 'defaulted': 1,\n",
              " 'degenerate': 1,\n",
              " 'demand': 1,\n",
              " 'democracy': 1,\n",
              " 'demonstration': 1,\n",
              " 'desolate': 1,\n",
              " 'destiny': 2,\n",
              " 'devotees': 1,\n",
              " 'dignity': 2,\n",
              " 'discipline': 1,\n",
              " 'discontent': 1,\n",
              " 'discrimination': 1,\n",
              " 'distrust': 1,\n",
              " 'down': 2,\n",
              " 'dramatize': 1,\n",
              " 'drinking': 1,\n",
              " 'drug': 1,\n",
              " 'emancipation': 1,\n",
              " 'emerges': 1,\n",
              " 'end': 2,\n",
              " 'engage': 1,\n",
              " 'engulfed': 1,\n",
              " 'equality': 1,\n",
              " 'every': 1,\n",
              " 'evidenced': 1,\n",
              " 'exile': 1,\n",
              " 'fall': 1,\n",
              " 'fatal': 1,\n",
              " 'fatigue': 1,\n",
              " 'fierce': 1,\n",
              " 'finds': 1,\n",
              " 'five': 1,\n",
              " 'flames': 1,\n",
              " 'for': 6,\n",
              " 'force': 2,\n",
              " 'forever': 1,\n",
              " 'foundations': 1,\n",
              " 'free': 1,\n",
              " 'freedom': 6,\n",
              " 'from': 4,\n",
              " 'funds': 2,\n",
              " 'gain': 1,\n",
              " 'gaining': 1,\n",
              " 'ghetto': 1,\n",
              " 'give': 1,\n",
              " 'given': 1,\n",
              " 'go': 1,\n",
              " \"god's\": 1,\n",
              " 'gradualism': 1,\n",
              " 'granted': 1,\n",
              " 'great': 3,\n",
              " 'greatest': 1,\n",
              " 'guaranteed': 1,\n",
              " 'guilty': 1,\n",
              " 'had': 1,\n",
              " 'hallowed': 1,\n",
              " 'happiness': 1,\n",
              " 'happy': 1,\n",
              " 'has': 5,\n",
              " 'hatred': 1,\n",
              " 'have': 4,\n",
              " 'he': 1,\n",
              " 'heavy': 1,\n",
              " 'heights': 1,\n",
              " 'heir': 1,\n",
              " 'her': 1,\n",
              " 'here': 2,\n",
              " 'high': 1,\n",
              " 'highways': 1,\n",
              " 'himself': 1,\n",
              " 'his': 2,\n",
              " 'history': 2,\n",
              " 'honoring': 1,\n",
              " 'hope': 2,\n",
              " 'horrors': 1,\n",
              " 'hotels': 1,\n",
              " 'hundred': 4,\n",
              " 'i': 2,\n",
              " 'if': 1,\n",
              " 'in': 16,\n",
              " 'independence': 1,\n",
              " 'inextricably': 1,\n",
              " 'injustice': 2,\n",
              " 'insofar': 1,\n",
              " 'instead': 1,\n",
              " 'insufficient': 1,\n",
              " 'into': 2,\n",
              " 'invigorating': 1,\n",
              " 'is': 18,\n",
              " 'island': 1,\n",
              " 'it': 3,\n",
              " 'join': 1,\n",
              " 'joyous': 1,\n",
              " 'justice': 6,\n",
              " 'land': 1,\n",
              " 'languished': 1,\n",
              " 'larger': 1,\n",
              " 'later': 4,\n",
              " 'lead': 1,\n",
              " 'leads': 1,\n",
              " 'legitimate': 1,\n",
              " 'let': 1,\n",
              " 'liberty': 1,\n",
              " 'life': 1,\n",
              " 'lift': 1,\n",
              " 'light': 1,\n",
              " 'like': 2,\n",
              " 'lives': 1,\n",
              " 'lodging': 1,\n",
              " 'lonely': 1,\n",
              " 'long': 6,\n",
              " 'luxury': 1,\n",
              " 'magnificent': 1,\n",
              " 'majestic': 1,\n",
              " 'make': 3,\n",
              " 'manacles': 1,\n",
              " 'many': 1,\n",
              " 'march': 1,\n",
              " 'marked': 1,\n",
              " 'marvelous': 1,\n",
              " 'material': 1,\n",
              " 'meeting': 1,\n",
              " 'men': 3,\n",
              " 'midst': 1,\n",
              " 'mighty': 1,\n",
              " 'militancy': 1,\n",
              " 'millions': 1,\n",
              " 'mississippi': 1,\n",
              " 'mobility': 1,\n",
              " 'moment': 1,\n",
              " 'momentous': 1,\n",
              " 'motels': 1,\n",
              " 'must': 7,\n",
              " 'my': 1,\n",
              " 'nation': 6,\n",
              " \"nation's\": 1,\n",
              " 'needed': 1,\n",
              " 'negro': 12,\n",
              " \"negro's\": 2,\n",
              " 'neither': 1,\n",
              " 'never': 3,\n",
              " 'new': 2,\n",
              " 'night': 1,\n",
              " 'nineteen': 1,\n",
              " 'no': 3,\n",
              " 'nor': 1,\n",
              " 'not': 9,\n",
              " 'note': 3,\n",
              " 'nothing': 1,\n",
              " 'now': 6,\n",
              " 'obligation': 1,\n",
              " 'obvious': 1,\n",
              " 'ocean': 1,\n",
              " 'of': 56,\n",
              " 'off': 2,\n",
              " 'on': 4,\n",
              " 'one': 5,\n",
              " 'only': 1,\n",
              " 'opportunity': 1,\n",
              " 'or': 1,\n",
              " 'our': 14,\n",
              " 'overlook': 1,\n",
              " 'own': 1,\n",
              " 'palace': 1,\n",
              " 'pass': 1,\n",
              " 'path': 1,\n",
              " 'people': 3,\n",
              " 'physical': 2,\n",
              " 'place': 1,\n",
              " 'plane': 1,\n",
              " 'pledge': 1,\n",
              " 'police': 1,\n",
              " 'poverty': 1,\n",
              " 'presence': 1,\n",
              " 'process': 1,\n",
              " 'proclamation': 1,\n",
              " 'promise': 1,\n",
              " 'promises': 1,\n",
              " 'promissory': 2,\n",
              " 'prosperity': 1,\n",
              " 'protest': 1,\n",
              " 'pursuit': 1,\n",
              " 'quicksands': 1,\n",
              " 'racial': 2,\n",
              " 'real': 1,\n",
              " 'reality': 1,\n",
              " 'realize': 2,\n",
              " 'refuse': 2,\n",
              " 'remind': 1,\n",
              " 'republic': 1,\n",
              " 'rest': 1,\n",
              " 'returns': 1,\n",
              " 'revolt': 1,\n",
              " 'riches': 1,\n",
              " 'righteousness': 1,\n",
              " 'rightful': 1,\n",
              " 'rights': 2,\n",
              " 'rights\"': 1,\n",
              " 'rise': 2,\n",
              " 'robbed': 1,\n",
              " 'rock': 1,\n",
              " 'rolls': 1,\n",
              " 'rude': 1,\n",
              " 'sacred': 1,\n",
              " 'sadly': 1,\n",
              " 'satisfied': 7,\n",
              " 'satisfied?\"': 1,\n",
              " 'satisfy': 1,\n",
              " 'say': 1,\n",
              " 'score': 1,\n",
              " 'seared': 1,\n",
              " 'security': 1,\n",
              " 'seek': 1,\n",
              " 'segregation': 2,\n",
              " 'self-hood': 1,\n",
              " 'sense': 1,\n",
              " 'shadow': 1,\n",
              " 'shake': 1,\n",
              " 'shall': 1,\n",
              " 'shameful': 1,\n",
              " 'signed': 1,\n",
              " 'signing': 1,\n",
              " 'signs': 1,\n",
              " 'sixty-three': 1,\n",
              " 'slaves': 1,\n",
              " 'smaller': 1,\n",
              " 'so': 2,\n",
              " 'society': 1,\n",
              " 'solid': 1,\n",
              " 'something': 1,\n",
              " 'soul': 1,\n",
              " 'spot': 1,\n",
              " 'stand': 2,\n",
              " 'stating': 1,\n",
              " 'steam': 1,\n",
              " 'still': 3,\n",
              " 'stream': 1,\n",
              " 'stripped': 1,\n",
              " 'struggle': 1,\n",
              " 'summer': 1,\n",
              " 'sunlit': 1,\n",
              " 'sweltering': 1,\n",
              " 'symbolic': 1,\n",
              " 'take': 1,\n",
              " 'that': 10,\n",
              " 'the': 66,\n",
              " 'their': 6,\n",
              " 'there': 5,\n",
              " 'they': 2,\n",
              " 'thirst': 1,\n",
              " 'this': 9,\n",
              " 'those': 2,\n",
              " 'threshold': 1,\n",
              " 'tied': 1,\n",
              " 'time': 5,\n",
              " 'to': 35,\n",
              " 'today': 5,\n",
              " 'tranquility': 1,\n",
              " 'tranquilizing': 1,\n",
              " 'travel': 1,\n",
              " 'turn': 1,\n",
              " 'unspeakable': 1,\n",
              " 'until': 4,\n",
              " 'up': 1,\n",
              " 'upon': 1,\n",
              " 'urgency': 2,\n",
              " 'us': 3,\n",
              " 'usual': 1,\n",
              " 'valley': 1,\n",
              " 'vast': 1,\n",
              " 'vaults': 1,\n",
              " 'victim': 1,\n",
              " 'violence': 1,\n",
              " 'vote': 2,\n",
              " 'walk': 2,\n",
              " 'warm': 1,\n",
              " 'was': 2,\n",
              " 'waters': 1,\n",
              " 'we': 19,\n",
              " \"we've\": 3,\n",
              " 'well': 1,\n",
              " 'were': 1,\n",
              " 'what': 1,\n",
              " 'when': 1,\n",
              " 'which': 5,\n",
              " 'whirlwinds': 1,\n",
              " 'white': 3,\n",
              " 'whites': 1,\n",
              " 'who': 4,\n",
              " 'whose': 1,\n",
              " 'will': 9,\n",
              " 'with': 4,\n",
              " 'withering': 1,\n",
              " 'words': 1,\n",
              " 'would': 2,\n",
              " 'wrongful': 1,\n",
              " 'wrote': 1,\n",
              " 'years': 5,\n",
              " 'yes': 1,\n",
              " 'york': 1,\n",
              " 'you': 2}"
            ]
          },
          "metadata": {},
          "execution_count": 221
        }
      ]
    },
    {
      "cell_type": "code",
      "source": [
        ""
      ],
      "metadata": {
        "id": "EK-1_C4Kx92p"
      },
      "execution_count": null,
      "outputs": []
    }
  ]
}