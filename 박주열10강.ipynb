{
  "nbformat": 4,
  "nbformat_minor": 0,
  "metadata": {
    "colab": {
      "name": "박주열10강.ipynb",
      "provenance": [],
      "authorship_tag": "ABX9TyOHY9y01KGhnFxIQjVg30u2",
      "include_colab_link": true
    },
    "kernelspec": {
      "name": "python3",
      "display_name": "Python 3"
    },
    "language_info": {
      "name": "python"
    }
  },
  "cells": [
    {
      "cell_type": "markdown",
      "metadata": {
        "id": "view-in-github",
        "colab_type": "text"
      },
      "source": [
        "<a href=\"https://colab.research.google.com/github/juyeol2001251/pjy_2001251/blob/main/%EB%B0%95%EC%A3%BC%EC%97%B410%EA%B0%95.ipynb\" target=\"_parent\"><img src=\"https://colab.research.google.com/assets/colab-badge.svg\" alt=\"Open In Colab\"/></a>"
      ]
    },
    {
      "cell_type": "code",
      "execution_count": 1,
      "metadata": {
        "colab": {
          "base_uri": "https://localhost:8080/"
        },
        "id": "CLDq-PcQZ7EW",
        "outputId": "0d1bd7b0-3085-4445-e8c8-9818c922610c"
      },
      "outputs": [
        {
          "output_type": "stream",
          "name": "stdout",
          "text": [
            "Looking in indexes: https://pypi.org/simple, https://us-python.pkg.dev/colab-wheels/public/simple/\n",
            "Collecting mglearn\n",
            "  Downloading mglearn-0.1.9.tar.gz (540 kB)\n",
            "\u001b[K     |████████████████████████████████| 540 kB 5.1 MB/s \n",
            "\u001b[?25hRequirement already satisfied: numpy in /usr/local/lib/python3.7/dist-packages (from mglearn) (1.21.6)\n",
            "Requirement already satisfied: matplotlib in /usr/local/lib/python3.7/dist-packages (from mglearn) (3.2.2)\n",
            "Requirement already satisfied: scikit-learn in /usr/local/lib/python3.7/dist-packages (from mglearn) (1.0.2)\n",
            "Requirement already satisfied: pandas in /usr/local/lib/python3.7/dist-packages (from mglearn) (1.3.5)\n",
            "Requirement already satisfied: pillow in /usr/local/lib/python3.7/dist-packages (from mglearn) (7.1.2)\n",
            "Requirement already satisfied: cycler in /usr/local/lib/python3.7/dist-packages (from mglearn) (0.11.0)\n",
            "Requirement already satisfied: imageio in /usr/local/lib/python3.7/dist-packages (from mglearn) (2.4.1)\n",
            "Requirement already satisfied: joblib in /usr/local/lib/python3.7/dist-packages (from mglearn) (1.1.0)\n",
            "Requirement already satisfied: kiwisolver>=1.0.1 in /usr/local/lib/python3.7/dist-packages (from matplotlib->mglearn) (1.4.2)\n",
            "Requirement already satisfied: pyparsing!=2.0.4,!=2.1.2,!=2.1.6,>=2.0.1 in /usr/local/lib/python3.7/dist-packages (from matplotlib->mglearn) (3.0.9)\n",
            "Requirement already satisfied: python-dateutil>=2.1 in /usr/local/lib/python3.7/dist-packages (from matplotlib->mglearn) (2.8.2)\n",
            "Requirement already satisfied: typing-extensions in /usr/local/lib/python3.7/dist-packages (from kiwisolver>=1.0.1->matplotlib->mglearn) (4.2.0)\n",
            "Requirement already satisfied: six>=1.5 in /usr/local/lib/python3.7/dist-packages (from python-dateutil>=2.1->matplotlib->mglearn) (1.15.0)\n",
            "Requirement already satisfied: pytz>=2017.3 in /usr/local/lib/python3.7/dist-packages (from pandas->mglearn) (2022.1)\n",
            "Requirement already satisfied: scipy>=1.1.0 in /usr/local/lib/python3.7/dist-packages (from scikit-learn->mglearn) (1.4.1)\n",
            "Requirement already satisfied: threadpoolctl>=2.0.0 in /usr/local/lib/python3.7/dist-packages (from scikit-learn->mglearn) (3.1.0)\n",
            "Building wheels for collected packages: mglearn\n",
            "  Building wheel for mglearn (setup.py) ... \u001b[?25l\u001b[?25hdone\n",
            "  Created wheel for mglearn: filename=mglearn-0.1.9-py2.py3-none-any.whl size=582639 sha256=3d458d4b03458faf02a06b3c70351b6103e3387cf803377ddc4598738b7965cd\n",
            "  Stored in directory: /root/.cache/pip/wheels/f1/17/e1/1720d6dcd70187b6b6c3750cb3508798f2b1d57c9d3214b08b\n",
            "Successfully built mglearn\n",
            "Installing collected packages: mglearn\n",
            "Successfully installed mglearn-0.1.9\n"
          ]
        }
      ],
      "source": [
        "!pip install mglearn\n",
        "import mglearn\n",
        "import matplotlib.pyplot as plt "
      ]
    },
    {
      "cell_type": "code",
      "source": [
        "X, y = mglearn.datasets.make_forge()\n",
        "mglearn.discrete_scatter(X[:,0], X[:,1], y)\n",
        "plt.show()"
      ],
      "metadata": {
        "colab": {
          "base_uri": "https://localhost:8080/",
          "height": 302
        },
        "id": "1pVkZZsoaPc8",
        "outputId": "57661d59-e63d-46f6-b10e-c04dd5df3454"
      },
      "execution_count": 2,
      "outputs": [
        {
          "output_type": "stream",
          "name": "stderr",
          "text": [
            "/usr/local/lib/python3.7/dist-packages/sklearn/utils/deprecation.py:87: FutureWarning: Function make_blobs is deprecated; Please import make_blobs directly from scikit-learn\n",
            "  warnings.warn(msg, category=FutureWarning)\n"
          ]
        },
        {
          "output_type": "display_data",
          "data": {
            "text/plain": [
              "<Figure size 432x288 with 1 Axes>"
            ],
            "image/png": "[encoded data removed]"
          },
          "metadata": {
            "needs_background": "light"
          }
        }
      ]
    },
    {
      "cell_type": "code",
      "source": [
        "from sklearn.linear_model import LogisticRegression\n",
        "clf = LogisticRegression()\n",
        "clf.fit(X, y)"
      ],
      "metadata": {
        "colab": {
          "base_uri": "https://localhost:8080/"
        },
        "id": "g8IZQ8wIaeGL",
        "outputId": "4407bfab-029e-4c17-8e3c-6b6d1638b6d8"
      },
      "execution_count": 3,
      "outputs": [
        {
          "output_type": "execute_result",
          "data": {
            "text/plain": [
              "LogisticRegression()"
            ]
          },
          "metadata": {},
          "execution_count": 3
        }
      ]
    },
    {
      "cell_type": "code",
      "source": [
        "X, y = mglearn.datasets.make_forge()\n",
        "mglearn.discrete_scatter(X[:, 0], X[:, 1], y)\n",
        "mglearn.plots.plot_2d_separator(clf, X, fill = False, eps = 0.5)\n",
        "plt.title('Logistic Regression')\n",
        "plt.xlabel('Feature 0')\n",
        "plt.ylabel('Feature 1')\n",
        "plt.legend()\n",
        "plt.show()"
      ],
      "metadata": {
        "colab": {
          "base_uri": "https://localhost:8080/",
          "height": 315
        },
        "id": "CWBSDUpLanqi",
        "outputId": "31b5fd50-f1ec-4445-becc-4fc7ee4ceeb1"
      },
      "execution_count": 4,
      "outputs": [
        {
          "output_type": "stream",
          "name": "stderr",
          "text": [
            "/usr/local/lib/python3.7/dist-packages/sklearn/utils/deprecation.py:87: FutureWarning: Function make_blobs is deprecated; Please import make_blobs directly from scikit-learn\n",
            "  warnings.warn(msg, category=FutureWarning)\n"
          ]
        },
        {
          "output_type": "display_data",
          "data": {
            "text/plain": [
              "<Figure size 432x288 with 1 Axes>"
            ],
            "image/png": "[encoded data removed]"
          },
          "metadata": {}
        }
      ]
    },
    {
      "cell_type": "code",
      "source": [
        "print(\"score: {:.3f}\".format(clf.score(X,y)))"
      ],
      "metadata": {
        "colab": {
          "base_uri": "https://localhost:8080/"
        },
        "id": "VQZH77lQcPr8",
        "outputId": "6c8a984a-550e-4db1-db0f-de17febabd15"
      },
      "execution_count": 5,
      "outputs": [
        {
          "output_type": "stream",
          "name": "stdout",
          "text": [
            "score: 0.923\n"
          ]
        }
      ]
    },
    {
      "cell_type": "code",
      "source": [
        "from sklearn.datasets import load_breast_cancer\n",
        "cancer = load_breast_cancer()"
      ],
      "metadata": {
        "id": "5yDjv86qcXnL"
      },
      "execution_count": 6,
      "outputs": []
    },
    {
      "cell_type": "code",
      "source": [
        "print(cancer.DESCR)"
      ],
      "metadata": {
        "colab": {
          "base_uri": "https://localhost:8080/"
        },
        "id": "vbn0kf9Ccfjb",
        "outputId": "225d31b1-5825-4ea7-9368-9c8673edd24d"
      },
      "execution_count": 7,
      "outputs": [
        {
          "output_type": "stream",
          "name": "stdout",
          "text": [
            ".. _breast_cancer_dataset:\n",
            "\n",
            "Breast cancer wisconsin (diagnostic) dataset\n",
            "--------------------------------------------\n",
            "\n",
            "**Data Set Characteristics:**\n",
            "\n",
            "    :Number of Instances: 569\n",
            "\n",
            "    :Number of Attributes: 30 numeric, predictive attributes and the class\n",
            "\n",
            "    :Attribute Information:\n",
            "        - radius (mean of distances from center to points on the perimeter)\n",
            "        - texture (standard deviation of gray-scale values)\n",
            "        - perimeter\n",
            "        - area\n",
            "        - smoothness (local variation in radius lengths)\n",
            "        - compactness (perimeter^2 / area - 1.0)\n",
            "        - concavity (severity of concave portions of the contour)\n",
            "        - concave points (number of concave portions of the contour)\n",
            "        - symmetry\n",
            "        - fractal dimension (\"coastline approximation\" - 1)\n",
            "\n",
            "        The mean, standard error, and \"worst\" or largest (mean of the three\n",
            "        worst/largest values) of these features were computed for each image,\n",
            "        resulting in 30 features.  For instance, field 0 is Mean Radius, field\n",
            "        10 is Radius SE, field 20 is Worst Radius.\n",
            "\n",
            "        - class:\n",
            "                - WDBC-Malignant\n",
            "                - WDBC-Benign\n",
            "\n",
            "    :Summary Statistics:\n",
            "\n",
            "    ===================================== ====== ======\n",
            "                                           Min    Max\n",
            "    ===================================== ====== ======\n",
            "    radius (mean):                        6.981  28.11\n",
            "    texture (mean):                       9.71   39.28\n",
            "    perimeter (mean):                     43.79  188.5\n",
            "    area (mean):                          143.5  2501.0\n",
            "    smoothness (mean):                    0.053  0.163\n",
            "    compactness (mean):                   0.019  0.345\n",
            "    concavity (mean):                     0.0    0.427\n",
            "    concave points (mean):                0.0    0.201\n",
            "    symmetry (mean):                      0.106  0.304\n",
            "    fractal dimension (mean):             0.05   0.097\n",
            "    radius (standard error):              0.112  2.873\n",
            "    texture (standard error):             0.36   4.885\n",
            "    perimeter (standard error):           0.757  21.98\n",
            "    area (standard error):                6.802  542.2\n",
            "    smoothness (standard error):          0.002  0.031\n",
            "    compactness (standard error):         0.002  0.135\n",
            "    concavity (standard error):           0.0    0.396\n",
            "    concave points (standard error):      0.0    0.053\n",
            "    symmetry (standard error):            0.008  0.079\n",
            "    fractal dimension (standard error):   0.001  0.03\n",
            "    radius (worst):                       7.93   36.04\n",
            "    texture (worst):                      12.02  49.54\n",
            "    perimeter (worst):                    50.41  251.2\n",
            "    area (worst):                         185.2  4254.0\n",
            "    smoothness (worst):                   0.071  0.223\n",
            "    compactness (worst):                  0.027  1.058\n",
            "    concavity (worst):                    0.0    1.252\n",
            "    concave points (worst):               0.0    0.291\n",
            "    symmetry (worst):                     0.156  0.664\n",
            "    fractal dimension (worst):            0.055  0.208\n",
            "    ===================================== ====== ======\n",
            "\n",
            "    :Missing Attribute Values: None\n",
            "\n",
            "    :Class Distribution: 212 - Malignant, 357 - Benign\n",
            "\n",
            "    :Creator:  Dr. William H. Wolberg, W. Nick Street, Olvi L. Mangasarian\n",
            "\n",
            "    :Donor: Nick Street\n",
            "\n",
            "    :Date: November, 1995\n",
            "\n",
            "This is a copy of UCI ML Breast Cancer Wisconsin (Diagnostic) datasets.\n",
            "https://goo.gl/U2Uwz2\n",
            "\n",
            "Features are computed from a digitized image of a fine needle\n",
            "aspirate (FNA) of a breast mass.  They describe\n",
            "characteristics of the cell nuclei present in the image.\n",
            "\n",
            "Separating plane described above was obtained using\n",
            "Multisurface Method-Tree (MSM-T) [K. P. Bennett, \"Decision Tree\n",
            "Construction Via Linear Programming.\" Proceedings of the 4th\n",
            "Midwest Artificial Intelligence and Cognitive Science Society,\n",
            "pp. 97-101, 1992], a classification method which uses linear\n",
            "programming to construct a decision tree.  Relevant features\n",
            "were selected using an exhaustive search in the space of 1-4\n",
            "features and 1-3 separating planes.\n",
            "\n",
            "The actual linear program used to obtain the separating plane\n",
            "in the 3-dimensional space is that described in:\n",
            "[K. P. Bennett and O. L. Mangasarian: \"Robust Linear\n",
            "Programming Discrimination of Two Linearly Inseparable Sets\",\n",
            "Optimization Methods and Software 1, 1992, 23-34].\n",
            "\n",
            "This database is also available through the UW CS ftp server:\n",
            "\n",
            "ftp ftp.cs.wisc.edu\n",
            "cd math-prog/cpo-dataset/machine-learn/WDBC/\n",
            "\n",
            ".. topic:: References\n",
            "\n",
            "   - W.N. Street, W.H. Wolberg and O.L. Mangasarian. Nuclear feature extraction \n",
            "     for breast tumor diagnosis. IS&T/SPIE 1993 International Symposium on \n",
            "     Electronic Imaging: Science and Technology, volume 1905, pages 861-870,\n",
            "     San Jose, CA, 1993.\n",
            "   - O.L. Mangasarian, W.N. Street and W.H. Wolberg. Breast cancer diagnosis and \n",
            "     prognosis via linear programming. Operations Research, 43(4), pages 570-577, \n",
            "     July-August 1995.\n",
            "   - W.H. Wolberg, W.N. Street, and O.L. Mangasarian. Machine learning techniques\n",
            "     to diagnose breast cancer from fine-needle aspirates. Cancer Letters 77 (1994) \n",
            "     163-171.\n"
          ]
        }
      ]
    },
    {
      "cell_type": "code",
      "source": [
        "cancer.data.shape"
      ],
      "metadata": {
        "colab": {
          "base_uri": "https://localhost:8080/"
        },
        "id": "-4S4XFCscipz",
        "outputId": "02ecda3e-1af2-4945-919b-cc1984072682"
      },
      "execution_count": 8,
      "outputs": [
        {
          "output_type": "execute_result",
          "data": {
            "text/plain": [
              "(569, 30)"
            ]
          },
          "metadata": {},
          "execution_count": 8
        }
      ]
    },
    {
      "cell_type": "code",
      "source": [
        "cancer.target.shape"
      ],
      "metadata": {
        "colab": {
          "base_uri": "https://localhost:8080/"
        },
        "id": "gIOGn8f1cm7M",
        "outputId": "ca7f0727-6f02-4d7e-eb50-7acaf69d119c"
      },
      "execution_count": 9,
      "outputs": [
        {
          "output_type": "execute_result",
          "data": {
            "text/plain": [
              "(569,)"
            ]
          },
          "metadata": {},
          "execution_count": 9
        }
      ]
    },
    {
      "cell_type": "code",
      "source": [
        "cancer.feature_names"
      ],
      "metadata": {
        "colab": {
          "base_uri": "https://localhost:8080/"
        },
        "id": "7m6-slswco7r",
        "outputId": "0431bc73-215a-4539-a494-617bf773dbbb"
      },
      "execution_count": 10,
      "outputs": [
        {
          "output_type": "execute_result",
          "data": {
            "text/plain": [
              "array(['mean radius', 'mean texture', 'mean perimeter', 'mean area',\n",
              "       'mean smoothness', 'mean compactness', 'mean concavity',\n",
              "       'mean concave points', 'mean symmetry', 'mean fractal dimension',\n",
              "       'radius error', 'texture error', 'perimeter error', 'area error',\n",
              "       'smoothness error', 'compactness error', 'concavity error',\n",
              "       'concave points error', 'symmetry error',\n",
              "       'fractal dimension error', 'worst radius', 'worst texture',\n",
              "       'worst perimeter', 'worst area', 'worst smoothness',\n",
              "       'worst compactness', 'worst concavity', 'worst concave points',\n",
              "       'worst symmetry', 'worst fractal dimension'], dtype='<U23')"
            ]
          },
          "metadata": {},
          "execution_count": 10
        }
      ]
    },
    {
      "cell_type": "code",
      "source": [
        "from sklearn.model_selection import train_test_split"
      ],
      "metadata": {
        "id": "qw_LfNk3crHD"
      },
      "execution_count": 11,
      "outputs": []
    },
    {
      "cell_type": "code",
      "source": [
        "X_train, X_test, y_train, y_test = train_test_split(cancer.data, cancer.target, stratify = cancer.target, random_state = 42)"
      ],
      "metadata": {
        "id": "gZQh-NiRcwzb"
      },
      "execution_count": 12,
      "outputs": []
    },
    {
      "cell_type": "code",
      "source": [
        "logreg = LogisticRegression(max_iter = 100000).fit(X_train, y_train)"
      ],
      "metadata": {
        "id": "inHQU4vWdAvj"
      },
      "execution_count": 13,
      "outputs": []
    },
    {
      "cell_type": "code",
      "source": [
        "print(\"Test Score: {:.3f}\".format(logreg.score(X_train, y_train)))\n",
        "print(\"Test Score: {:.3f}\".format(logreg.score(X_test, y_test)))"
      ],
      "metadata": {
        "colab": {
          "base_uri": "https://localhost:8080/"
        },
        "id": "W7xpICP7dJbb",
        "outputId": "3f15ffa5-3bcc-4221-a49b-f9dbaedc3424"
      },
      "execution_count": 14,
      "outputs": [
        {
          "output_type": "stream",
          "name": "stdout",
          "text": [
            "Test Score: 0.958\n",
            "Test Score: 0.958\n"
          ]
        }
      ]
    },
    {
      "cell_type": "code",
      "source": [
        "logreg10000 = LogisticRegression(C = 10000, max_iter = 100000).fit(X_train, y_train)\n",
        "print(\"Test Score: {:.3f}\".format(logreg10000.score(X_train, y_train)))\n",
        "print(\"Test Score: {:.3f}\".format(logreg10000.score(X_test, y_test)))"
      ],
      "metadata": {
        "colab": {
          "base_uri": "https://localhost:8080/"
        },
        "id": "ryCCGzIhdZjL",
        "outputId": "af0705a3-968f-45d4-8d44-e3088e7f48ef"
      },
      "execution_count": 15,
      "outputs": [
        {
          "output_type": "stream",
          "name": "stdout",
          "text": [
            "Test Score: 0.984\n",
            "Test Score: 0.979\n"
          ]
        }
      ]
    },
    {
      "cell_type": "code",
      "source": [
        "logreg1000 = LogisticRegression(C = 1000, max_iter = 100000).fit(X_train, y_train)\n",
        "print(\"Test Score: {:.3f}\".format(logreg1000.score(X_train, y_train)))\n",
        "print(\"Test Score: {:.3f}\".format(logreg1000.score(X_test, y_test)))"
      ],
      "metadata": {
        "colab": {
          "base_uri": "https://localhost:8080/"
        },
        "id": "-cq6sjXVdqka",
        "outputId": "df5b4899-5dea-42f0-dd45-5a12883a6ec4"
      },
      "execution_count": 17,
      "outputs": [
        {
          "output_type": "stream",
          "name": "stdout",
          "text": [
            "Test Score: 0.986\n",
            "Test Score: 0.986\n"
          ]
        }
      ]
    },
    {
      "cell_type": "code",
      "source": [
        "logreg10 = LogisticRegression(C = 10, max_iter = 100000).fit(X_train, y_train)\n",
        "print(\"Test Score: {:.3f}\".format(logreg10.score(X_train, y_train)))\n",
        "print(\"Test Score: {:.3f}\".format(logreg10.score(X_test, y_test)))"
      ],
      "metadata": {
        "colab": {
          "base_uri": "https://localhost:8080/"
        },
        "id": "YvIQwdYOdvKL",
        "outputId": "a7d619e9-21e1-4722-b707-f65db92fbcea"
      },
      "execution_count": 18,
      "outputs": [
        {
          "output_type": "stream",
          "name": "stdout",
          "text": [
            "Test Score: 0.967\n",
            "Test Score: 0.965\n"
          ]
        }
      ]
    },
    {
      "cell_type": "code",
      "source": [
        "logreg1 = LogisticRegression(C = 1, max_iter = 100000).fit(X_train, y_train)\n",
        "print(\"Test Score: {:.3f}\".format(logreg1.score(X_train, y_train)))\n",
        "print(\"Test Score: {:.3f}\".format(logreg1.score(X_test, y_test)))"
      ],
      "metadata": {
        "colab": {
          "base_uri": "https://localhost:8080/"
        },
        "id": "625PM9YQd3Rj",
        "outputId": "b208efcb-b776-4637-b381-d6a0a2d0c7f8"
      },
      "execution_count": 19,
      "outputs": [
        {
          "output_type": "stream",
          "name": "stdout",
          "text": [
            "Test Score: 0.958\n",
            "Test Score: 0.958\n"
          ]
        }
      ]
    },
    {
      "cell_type": "code",
      "source": [
        "logreg001 = LogisticRegression(C = 0.01, max_iter = 100000).fit(X_train, y_train)\n",
        "print(\"Test Score: {:.3f}\".format(logreg001.score(X_train, y_train)))\n",
        "print(\"Test Score: {:.3f}\".format(logreg001.score(X_test, y_test)))"
      ],
      "metadata": {
        "colab": {
          "base_uri": "https://localhost:8080/"
        },
        "id": "6koHpkU2d90D",
        "outputId": "a44bd447-b05c-4bbe-f9ad-28f82daf45dd"
      },
      "execution_count": 20,
      "outputs": [
        {
          "output_type": "stream",
          "name": "stdout",
          "text": [
            "Test Score: 0.953\n",
            "Test Score: 0.951\n"
          ]
        }
      ]
    },
    {
      "cell_type": "code",
      "source": [
        "logreg0001 = LogisticRegression(C = 0.001, max_iter = 100000).fit(X_train, y_train)\n",
        "print(\"Test Score: {:.3f}\".format(logreg0001.score(X_train, y_train)))\n",
        "print(\"Test Score: {:.3f}\".format(logreg0001.score(X_test, y_test)))"
      ],
      "metadata": {
        "colab": {
          "base_uri": "https://localhost:8080/"
        },
        "id": "7zNNliJLeDE8",
        "outputId": "2b5864ca-cc6e-49ee-8925-06b3d342293e"
      },
      "execution_count": 21,
      "outputs": [
        {
          "output_type": "stream",
          "name": "stdout",
          "text": [
            "Test Score: 0.953\n",
            "Test Score: 0.944\n"
          ]
        }
      ]
    },
    {
      "cell_type": "code",
      "source": [
        "logreg100 = LogisticRegression(C = 100, max_iter = 100000).fit(X_train, y_train)\n",
        "print(\"Test Score: {:.3f}\".format(logreg100.score(X_train, y_train)))\n",
        "print(\"Test Score: {:.3f}\".format(logreg100.score(X_test, y_test)))"
      ],
      "metadata": {
        "colab": {
          "base_uri": "https://localhost:8080/"
        },
        "id": "ruDHPe2hfIT1",
        "outputId": "16e2f960-c9e8-4fdf-a21e-d7414a2d0715"
      },
      "execution_count": 24,
      "outputs": [
        {
          "output_type": "stream",
          "name": "stdout",
          "text": [
            "Test Score: 0.981\n",
            "Test Score: 0.965\n"
          ]
        }
      ]
    },
    {
      "cell_type": "code",
      "source": [
        "plt.plot(logreg100.coef_.T, 'ko', label = 'C = 100')\n",
        "plt.plot(logreg1.coef_.T, 'rx', label = 'C = 1')\n",
        "plt.plot(logreg0001.coef_.T, 'gs', label = 'C = 0.001')\n",
        "plt.xticks(range(cancer.data.shape[1]), cancer.feature_names, rotation = 90)\n",
        "xlims = plt.xlim()\n",
        "plt.hlines(0, xlims[0], xlims[1], 'b')\n",
        "plt.xlim(xlims)\n",
        "plt.ylim(-5, 5)\n",
        "plt.legend()\n",
        "plt.xlabel('Feature')\n",
        "plt.ylabel('Magnitude of w')\n",
        "plt.show()"
      ],
      "metadata": {
        "colab": {
          "base_uri": "https://localhost:8080/",
          "height": 388
        },
        "id": "oGZFQtLqeLpT",
        "outputId": "74e7dbff-c3fa-450c-8772-d627982d053b"
      },
      "execution_count": 25,
      "outputs": [
        {
          "output_type": "display_data",
          "data": {
            "text/plain": [
              "<Figure size 432x288 with 1 Axes>"
            ],
            "image/png": "[encoded data removed]"
          },
          "metadata": {
            "needs_background": "light"
          }
        }
      ]
    },
    {
      "cell_type": "code",
      "source": [
        "lr_l1 = LogisticRegression(C = 1, penalty = 'l1', solver = 'liblinear', max_iter = 10000).fit(X_train, y_train)\n",
        "print(\"Test Score: {:.3f}\".format(lr_l1.score(X_train, y_train)))\n",
        "print(\"Test Score: {:.3f}\".format(lr_l1.score(X_test, y_test)))\n",
        "print(\"Number of Features used: \", sum(sum(lr_l1.coef_!=0)))"
      ],
      "metadata": {
        "colab": {
          "base_uri": "https://localhost:8080/"
        },
        "id": "FdQmeL3hfBTl",
        "outputId": "8dd35188-f4a0-498c-dd87-2430351fb10e"
      },
      "execution_count": 27,
      "outputs": [
        {
          "output_type": "stream",
          "name": "stdout",
          "text": [
            "Test Score: 0.960\n",
            "Test Score: 0.958\n",
            "Number of Features used:  10\n"
          ]
        }
      ]
    },
    {
      "cell_type": "code",
      "source": [
        "for C, marker in zip([0.001, 1, 100], ['o', '^', 'v']):\n",
        "  lr_l1 = LogisticRegression(C = C, penalty = 'l1', solver = 'liblinear', max_iter = 10000).fit(X_train, y_train)\n",
        "  print('Train accuracy of Logistic Regression with C={:.3f}: {:.3f}'.format(C, lr_l1.score(X_train, y_train)))\n",
        "  print('Test accuracy of Logistic Regression with C={:.3f}: {:.3f}'.format(C, lr_l1.score(X_test, y_test)))\n",
        "\n",
        "  plt.plot(lr_l1.coef_.T, marker, label = 'C={:.3f}'.format(C))\n",
        "\n",
        "plt.xticks(range(cancer.data.shape[1]), cancer.feature_names, rotation = 90)\n",
        "xlims = plt.xlim()\n",
        "plt.hlines(0, xlims[0], xlims[1])\n",
        "plt.xlim(xlims)\n",
        "plt.xlabel('Features')\n",
        "plt.ylabel('w')\n",
        "plt.ylim(-5, 5)\n",
        "plt.show()"
      ],
      "metadata": {
        "colab": {
          "base_uri": "https://localhost:8080/",
          "height": 498
        },
        "id": "uor9Sibrf-js",
        "outputId": "c5aa656e-aaad-4901-b718-788f7075bdb7"
      },
      "execution_count": 29,
      "outputs": [
        {
          "output_type": "stream",
          "name": "stdout",
          "text": [
            "Train accuracy of Logistic Regression with C=0.001: 0.913\n",
            "Test accuracy of Logistic Regression with C=0.001: 0.923\n",
            "Train accuracy of Logistic Regression with C=1.000: 0.960\n",
            "Test accuracy of Logistic Regression with C=1.000: 0.958\n",
            "Train accuracy of Logistic Regression with C=100.000: 0.986\n",
            "Test accuracy of Logistic Regression with C=100.000: 0.979\n"
          ]
        },
        {
          "output_type": "display_data",
          "data": {
            "text/plain": [
              "<Figure size 432x288 with 1 Axes>"
            ],
            "image/png": "[encoded data removed]"
          },
          "metadata": {
            "needs_background": "light"
          }
        }
      ]
    },
    {
      "cell_type": "code",
      "source": [
        ""
      ],
      "metadata": {
        "id": "kSoa8pWDhlrW"
      },
      "execution_count": null,
      "outputs": []
    }
  ]
}